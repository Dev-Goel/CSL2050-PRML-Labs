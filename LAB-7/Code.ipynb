{
  "nbformat": 4,
  "nbformat_minor": 0,
  "metadata": {
    "colab": {
      "name": "B20CS090.ipynb",
      "provenance": [],
      "collapsed_sections": [
        "2l6HoHmT4LxO",
        "Z5B8DHQD8pJy",
        "MqmBiXcyE4Aq",
        "U5DlpN-m-idO",
        "w4_w7glw-zHo",
        "cHf63kHCxjeM",
        "R7F9uiWRxpkX",
        "GqGN6E85x2IN",
        "bDdk7Uyq2GGh",
        "raJmQILv2LD7",
        "ZG-PHijfudt4"
      ]
    },
    "kernelspec": {
      "name": "python3",
      "display_name": "Python 3"
    },
    "language_info": {
      "name": "python"
    }
  },
  "cells": [
    {
      "cell_type": "markdown",
      "source": [
        "#**Pattern Recognition and Machine Learning 2022 Winter Semester**\n",
        "\n",
        "##**Lab - 7 Assignment**"
      ],
      "metadata": {
        "id": "fzQNf6np0b0a"
      }
    },
    {
      "cell_type": "markdown",
      "source": [
        "###Name: Dev Goel\n",
        "###Roll No: B20CS090"
      ],
      "metadata": {
        "id": "FGV7WPkOBBX2"
      }
    },
    {
      "cell_type": "markdown",
      "source": [
        "##Importing the Necessary Python Libraries and Components"
      ],
      "metadata": {
        "id": "AJH1eFFA7HBW"
      }
    },
    {
      "cell_type": "code",
      "source": [
        "import pandas as pd\n",
        "from sklearn.model_selection import train_test_split\n",
        "import numpy as np\n",
        "from sklearn.preprocessing import LabelEncoder\n",
        "import matplotlib.pyplot as plt\n",
        "from sklearn.metrics import accuracy_score\n",
        "import seaborn as sns\n",
        "import warnings\n",
        "warnings.filterwarnings('ignore')\n",
        "import torch \n",
        "import torch.nn as nn\n",
        "from torch.autograd import Variable\n",
        "from sklearn.utils import shuffle\n",
        "from torchsummary import summary\n",
        "from math import tanh\n",
        "from math import exp\n",
        "from random import random\n",
        "from sklearn.preprocessing import StandardScaler\n",
        "import time"
      ],
      "metadata": {
        "id": "CTCR-ByxlEAY"
      },
      "execution_count": null,
      "outputs": []
    },
    {
      "cell_type": "markdown",
      "source": [
        "#**Question-1**"
      ],
      "metadata": {
        "id": "2l6HoHmT4LxO"
      }
    },
    {
      "cell_type": "markdown",
      "source": [
        "###In this exercise, you need to predict the life of Abalone - a kind of shellfish, based on a number of characteristics (sex, length, diameter, height, weights in different forms, etc.). Model it as a classification problem to predict the class (based on the number of rings).\n",
        "\n",
        "###You need to use the PyTorch library to create a neural network with the following specification, split the data and find out the accuracy on the test set after training:\n",
        "\n",
        "###Decide on the hidden layer size on your own. Use sigmoid activation for the output layer and tanh for the hidden layers. The ‘+’ Symbol represents the addition of the outputs of the 2 branches."
      ],
      "metadata": {
        "id": "Xnhd0IpJ54ea"
      }
    },
    {
      "cell_type": "markdown",
      "source": [
        "##Input the dataset"
      ],
      "metadata": {
        "id": "Z5B8DHQD8pJy"
      }
    },
    {
      "cell_type": "code",
      "source": [
        "abaloneDataset = pd.read_csv(\"/content/drive/MyDrive/Colab Notebooks/DataSet/LAB-7/abalone.data\", header=None, names=[\"Sex\", \"Length\", \"Diameter\", \"Height\", \"Whole weight\", \"Shucked weight\", \"Viscera weight\", \"Shell weight\", \"Rings\"])\n",
        "abaloneDataset"
      ],
      "metadata": {
        "colab": {
          "base_uri": "https://localhost:8080/",
          "height": 423
        },
        "id": "1JMkxzXQ54D7",
        "outputId": "bfdf5c7d-8da8-4e87-842f-8e9e66a0fe27"
      },
      "execution_count": null,
      "outputs": [
        {
          "output_type": "execute_result",
          "data": {
            "text/plain": [
              "     Sex  Length  Diameter  Height  Whole weight  Shucked weight  \\\n",
              "0      M   0.455     0.365   0.095        0.5140          0.2245   \n",
              "1      M   0.350     0.265   0.090        0.2255          0.0995   \n",
              "2      F   0.530     0.420   0.135        0.6770          0.2565   \n",
              "3      M   0.440     0.365   0.125        0.5160          0.2155   \n",
              "4      I   0.330     0.255   0.080        0.2050          0.0895   \n",
              "...   ..     ...       ...     ...           ...             ...   \n",
              "4172   F   0.565     0.450   0.165        0.8870          0.3700   \n",
              "4173   M   0.590     0.440   0.135        0.9660          0.4390   \n",
              "4174   M   0.600     0.475   0.205        1.1760          0.5255   \n",
              "4175   F   0.625     0.485   0.150        1.0945          0.5310   \n",
              "4176   M   0.710     0.555   0.195        1.9485          0.9455   \n",
              "\n",
              "      Viscera weight  Shell weight  Rings  \n",
              "0             0.1010        0.1500     15  \n",
              "1             0.0485        0.0700      7  \n",
              "2             0.1415        0.2100      9  \n",
              "3             0.1140        0.1550     10  \n",
              "4             0.0395        0.0550      7  \n",
              "...              ...           ...    ...  \n",
              "4172          0.2390        0.2490     11  \n",
              "4173          0.2145        0.2605     10  \n",
              "4174          0.2875        0.3080      9  \n",
              "4175          0.2610        0.2960     10  \n",
              "4176          0.3765        0.4950     12  \n",
              "\n",
              "[4177 rows x 9 columns]"
            ],
            "text/html": [
              "\n",
              "  <div id=\"df-060765d9-4926-4050-aa29-23cd1a02305a\">\n",
              "    <div class=\"colab-df-container\">\n",
              "      <div>\n",
              "<style scoped>\n",
              "    .dataframe tbody tr th:only-of-type {\n",
              "        vertical-align: middle;\n",
              "    }\n",
              "\n",
              "    .dataframe tbody tr th {\n",
              "        vertical-align: top;\n",
              "    }\n",
              "\n",
              "    .dataframe thead th {\n",
              "        text-align: right;\n",
              "    }\n",
              "</style>\n",
              "<table border=\"1\" class=\"dataframe\">\n",
              "  <thead>\n",
              "    <tr style=\"text-align: right;\">\n",
              "      <th></th>\n",
              "      <th>Sex</th>\n",
              "      <th>Length</th>\n",
              "      <th>Diameter</th>\n",
              "      <th>Height</th>\n",
              "      <th>Whole weight</th>\n",
              "      <th>Shucked weight</th>\n",
              "      <th>Viscera weight</th>\n",
              "      <th>Shell weight</th>\n",
              "      <th>Rings</th>\n",
              "    </tr>\n",
              "  </thead>\n",
              "  <tbody>\n",
              "    <tr>\n",
              "      <th>0</th>\n",
              "      <td>M</td>\n",
              "      <td>0.455</td>\n",
              "      <td>0.365</td>\n",
              "      <td>0.095</td>\n",
              "      <td>0.5140</td>\n",
              "      <td>0.2245</td>\n",
              "      <td>0.1010</td>\n",
              "      <td>0.1500</td>\n",
              "      <td>15</td>\n",
              "    </tr>\n",
              "    <tr>\n",
              "      <th>1</th>\n",
              "      <td>M</td>\n",
              "      <td>0.350</td>\n",
              "      <td>0.265</td>\n",
              "      <td>0.090</td>\n",
              "      <td>0.2255</td>\n",
              "      <td>0.0995</td>\n",
              "      <td>0.0485</td>\n",
              "      <td>0.0700</td>\n",
              "      <td>7</td>\n",
              "    </tr>\n",
              "    <tr>\n",
              "      <th>2</th>\n",
              "      <td>F</td>\n",
              "      <td>0.530</td>\n",
              "      <td>0.420</td>\n",
              "      <td>0.135</td>\n",
              "      <td>0.6770</td>\n",
              "      <td>0.2565</td>\n",
              "      <td>0.1415</td>\n",
              "      <td>0.2100</td>\n",
              "      <td>9</td>\n",
              "    </tr>\n",
              "    <tr>\n",
              "      <th>3</th>\n",
              "      <td>M</td>\n",
              "      <td>0.440</td>\n",
              "      <td>0.365</td>\n",
              "      <td>0.125</td>\n",
              "      <td>0.5160</td>\n",
              "      <td>0.2155</td>\n",
              "      <td>0.1140</td>\n",
              "      <td>0.1550</td>\n",
              "      <td>10</td>\n",
              "    </tr>\n",
              "    <tr>\n",
              "      <th>4</th>\n",
              "      <td>I</td>\n",
              "      <td>0.330</td>\n",
              "      <td>0.255</td>\n",
              "      <td>0.080</td>\n",
              "      <td>0.2050</td>\n",
              "      <td>0.0895</td>\n",
              "      <td>0.0395</td>\n",
              "      <td>0.0550</td>\n",
              "      <td>7</td>\n",
              "    </tr>\n",
              "    <tr>\n",
              "      <th>...</th>\n",
              "      <td>...</td>\n",
              "      <td>...</td>\n",
              "      <td>...</td>\n",
              "      <td>...</td>\n",
              "      <td>...</td>\n",
              "      <td>...</td>\n",
              "      <td>...</td>\n",
              "      <td>...</td>\n",
              "      <td>...</td>\n",
              "    </tr>\n",
              "    <tr>\n",
              "      <th>4172</th>\n",
              "      <td>F</td>\n",
              "      <td>0.565</td>\n",
              "      <td>0.450</td>\n",
              "      <td>0.165</td>\n",
              "      <td>0.8870</td>\n",
              "      <td>0.3700</td>\n",
              "      <td>0.2390</td>\n",
              "      <td>0.2490</td>\n",
              "      <td>11</td>\n",
              "    </tr>\n",
              "    <tr>\n",
              "      <th>4173</th>\n",
              "      <td>M</td>\n",
              "      <td>0.590</td>\n",
              "      <td>0.440</td>\n",
              "      <td>0.135</td>\n",
              "      <td>0.9660</td>\n",
              "      <td>0.4390</td>\n",
              "      <td>0.2145</td>\n",
              "      <td>0.2605</td>\n",
              "      <td>10</td>\n",
              "    </tr>\n",
              "    <tr>\n",
              "      <th>4174</th>\n",
              "      <td>M</td>\n",
              "      <td>0.600</td>\n",
              "      <td>0.475</td>\n",
              "      <td>0.205</td>\n",
              "      <td>1.1760</td>\n",
              "      <td>0.5255</td>\n",
              "      <td>0.2875</td>\n",
              "      <td>0.3080</td>\n",
              "      <td>9</td>\n",
              "    </tr>\n",
              "    <tr>\n",
              "      <th>4175</th>\n",
              "      <td>F</td>\n",
              "      <td>0.625</td>\n",
              "      <td>0.485</td>\n",
              "      <td>0.150</td>\n",
              "      <td>1.0945</td>\n",
              "      <td>0.5310</td>\n",
              "      <td>0.2610</td>\n",
              "      <td>0.2960</td>\n",
              "      <td>10</td>\n",
              "    </tr>\n",
              "    <tr>\n",
              "      <th>4176</th>\n",
              "      <td>M</td>\n",
              "      <td>0.710</td>\n",
              "      <td>0.555</td>\n",
              "      <td>0.195</td>\n",
              "      <td>1.9485</td>\n",
              "      <td>0.9455</td>\n",
              "      <td>0.3765</td>\n",
              "      <td>0.4950</td>\n",
              "      <td>12</td>\n",
              "    </tr>\n",
              "  </tbody>\n",
              "</table>\n",
              "<p>4177 rows × 9 columns</p>\n",
              "</div>\n",
              "      <button class=\"colab-df-convert\" onclick=\"convertToInteractive('df-060765d9-4926-4050-aa29-23cd1a02305a')\"\n",
              "              title=\"Convert this dataframe to an interactive table.\"\n",
              "              style=\"display:none;\">\n",
              "        \n",
              "  <svg xmlns=\"http://www.w3.org/2000/svg\" height=\"24px\"viewBox=\"0 0 24 24\"\n",
              "       width=\"24px\">\n",
              "    <path d=\"M0 0h24v24H0V0z\" fill=\"none\"/>\n",
              "    <path d=\"M18.56 5.44l.94 2.06.94-2.06 2.06-.94-2.06-.94-.94-2.06-.94 2.06-2.06.94zm-11 1L8.5 8.5l.94-2.06 2.06-.94-2.06-.94L8.5 2.5l-.94 2.06-2.06.94zm10 10l.94 2.06.94-2.06 2.06-.94-2.06-.94-.94-2.06-.94 2.06-2.06.94z\"/><path d=\"M17.41 7.96l-1.37-1.37c-.4-.4-.92-.59-1.43-.59-.52 0-1.04.2-1.43.59L10.3 9.45l-7.72 7.72c-.78.78-.78 2.05 0 2.83L4 21.41c.39.39.9.59 1.41.59.51 0 1.02-.2 1.41-.59l7.78-7.78 2.81-2.81c.8-.78.8-2.07 0-2.86zM5.41 20L4 18.59l7.72-7.72 1.47 1.35L5.41 20z\"/>\n",
              "  </svg>\n",
              "      </button>\n",
              "      \n",
              "  <style>\n",
              "    .colab-df-container {\n",
              "      display:flex;\n",
              "      flex-wrap:wrap;\n",
              "      gap: 12px;\n",
              "    }\n",
              "\n",
              "    .colab-df-convert {\n",
              "      background-color: #E8F0FE;\n",
              "      border: none;\n",
              "      border-radius: 50%;\n",
              "      cursor: pointer;\n",
              "      display: none;\n",
              "      fill: #1967D2;\n",
              "      height: 32px;\n",
              "      padding: 0 0 0 0;\n",
              "      width: 32px;\n",
              "    }\n",
              "\n",
              "    .colab-df-convert:hover {\n",
              "      background-color: #E2EBFA;\n",
              "      box-shadow: 0px 1px 2px rgba(60, 64, 67, 0.3), 0px 1px 3px 1px rgba(60, 64, 67, 0.15);\n",
              "      fill: #174EA6;\n",
              "    }\n",
              "\n",
              "    [theme=dark] .colab-df-convert {\n",
              "      background-color: #3B4455;\n",
              "      fill: #D2E3FC;\n",
              "    }\n",
              "\n",
              "    [theme=dark] .colab-df-convert:hover {\n",
              "      background-color: #434B5C;\n",
              "      box-shadow: 0px 1px 3px 1px rgba(0, 0, 0, 0.15);\n",
              "      filter: drop-shadow(0px 1px 2px rgba(0, 0, 0, 0.3));\n",
              "      fill: #FFFFFF;\n",
              "    }\n",
              "  </style>\n",
              "\n",
              "      <script>\n",
              "        const buttonEl =\n",
              "          document.querySelector('#df-060765d9-4926-4050-aa29-23cd1a02305a button.colab-df-convert');\n",
              "        buttonEl.style.display =\n",
              "          google.colab.kernel.accessAllowed ? 'block' : 'none';\n",
              "\n",
              "        async function convertToInteractive(key) {\n",
              "          const element = document.querySelector('#df-060765d9-4926-4050-aa29-23cd1a02305a');\n",
              "          const dataTable =\n",
              "            await google.colab.kernel.invokeFunction('convertToInteractive',\n",
              "                                                     [key], {});\n",
              "          if (!dataTable) return;\n",
              "\n",
              "          const docLinkHtml = 'Like what you see? Visit the ' +\n",
              "            '<a target=\"_blank\" href=https://colab.research.google.com/notebooks/data_table.ipynb>data table notebook</a>'\n",
              "            + ' to learn more about interactive tables.';\n",
              "          element.innerHTML = '';\n",
              "          dataTable['output_type'] = 'display_data';\n",
              "          await google.colab.output.renderOutput(dataTable, element);\n",
              "          const docLink = document.createElement('div');\n",
              "          docLink.innerHTML = docLinkHtml;\n",
              "          element.appendChild(docLink);\n",
              "        }\n",
              "      </script>\n",
              "    </div>\n",
              "  </div>\n",
              "  "
            ]
          },
          "metadata": {},
          "execution_count": 112
        }
      ]
    },
    {
      "cell_type": "code",
      "source": [
        "abaloneDataset.isnull().sum()"
      ],
      "metadata": {
        "colab": {
          "base_uri": "https://localhost:8080/"
        },
        "id": "DyQYULdOEyia",
        "outputId": "989bd68d-5739-4e80-906e-ee9ec0829e5a"
      },
      "execution_count": null,
      "outputs": [
        {
          "output_type": "execute_result",
          "data": {
            "text/plain": [
              "Sex               0\n",
              "Length            0\n",
              "Diameter          0\n",
              "Height            0\n",
              "Whole weight      0\n",
              "Shucked weight    0\n",
              "Viscera weight    0\n",
              "Shell weight      0\n",
              "Rings             0\n",
              "dtype: int64"
            ]
          },
          "metadata": {},
          "execution_count": 113
        }
      ]
    },
    {
      "cell_type": "code",
      "source": [
        "abaloneDataset.info()"
      ],
      "metadata": {
        "colab": {
          "base_uri": "https://localhost:8080/"
        },
        "id": "f19vbLQl-bNV",
        "outputId": "ba632052-0bf7-462c-f9b2-ff761ca0fb68"
      },
      "execution_count": null,
      "outputs": [
        {
          "output_type": "stream",
          "name": "stdout",
          "text": [
            "<class 'pandas.core.frame.DataFrame'>\n",
            "RangeIndex: 4177 entries, 0 to 4176\n",
            "Data columns (total 9 columns):\n",
            " #   Column          Non-Null Count  Dtype  \n",
            "---  ------          --------------  -----  \n",
            " 0   Sex             4177 non-null   object \n",
            " 1   Length          4177 non-null   float64\n",
            " 2   Diameter        4177 non-null   float64\n",
            " 3   Height          4177 non-null   float64\n",
            " 4   Whole weight    4177 non-null   float64\n",
            " 5   Shucked weight  4177 non-null   float64\n",
            " 6   Viscera weight  4177 non-null   float64\n",
            " 7   Shell weight    4177 non-null   float64\n",
            " 8   Rings           4177 non-null   int64  \n",
            "dtypes: float64(7), int64(1), object(1)\n",
            "memory usage: 293.8+ KB\n"
          ]
        }
      ]
    },
    {
      "cell_type": "code",
      "source": [
        "abaloneDataset.describe()"
      ],
      "metadata": {
        "colab": {
          "base_uri": "https://localhost:8080/",
          "height": 300
        },
        "id": "f_wbe1GcEGNz",
        "outputId": "e97b001f-1090-4277-c34d-7878dfceaa9c"
      },
      "execution_count": null,
      "outputs": [
        {
          "output_type": "execute_result",
          "data": {
            "text/plain": [
              "            Length     Diameter       Height  Whole weight  Shucked weight  \\\n",
              "count  4177.000000  4177.000000  4177.000000   4177.000000     4177.000000   \n",
              "mean      0.523992     0.407881     0.139516      0.828742        0.359367   \n",
              "std       0.120093     0.099240     0.041827      0.490389        0.221963   \n",
              "min       0.075000     0.055000     0.000000      0.002000        0.001000   \n",
              "25%       0.450000     0.350000     0.115000      0.441500        0.186000   \n",
              "50%       0.545000     0.425000     0.140000      0.799500        0.336000   \n",
              "75%       0.615000     0.480000     0.165000      1.153000        0.502000   \n",
              "max       0.815000     0.650000     1.130000      2.825500        1.488000   \n",
              "\n",
              "       Viscera weight  Shell weight        Rings  \n",
              "count     4177.000000   4177.000000  4177.000000  \n",
              "mean         0.180594      0.238831     9.933684  \n",
              "std          0.109614      0.139203     3.224169  \n",
              "min          0.000500      0.001500     1.000000  \n",
              "25%          0.093500      0.130000     8.000000  \n",
              "50%          0.171000      0.234000     9.000000  \n",
              "75%          0.253000      0.329000    11.000000  \n",
              "max          0.760000      1.005000    29.000000  "
            ],
            "text/html": [
              "\n",
              "  <div id=\"df-804c57b6-95fb-4d80-a493-d275079c99fb\">\n",
              "    <div class=\"colab-df-container\">\n",
              "      <div>\n",
              "<style scoped>\n",
              "    .dataframe tbody tr th:only-of-type {\n",
              "        vertical-align: middle;\n",
              "    }\n",
              "\n",
              "    .dataframe tbody tr th {\n",
              "        vertical-align: top;\n",
              "    }\n",
              "\n",
              "    .dataframe thead th {\n",
              "        text-align: right;\n",
              "    }\n",
              "</style>\n",
              "<table border=\"1\" class=\"dataframe\">\n",
              "  <thead>\n",
              "    <tr style=\"text-align: right;\">\n",
              "      <th></th>\n",
              "      <th>Length</th>\n",
              "      <th>Diameter</th>\n",
              "      <th>Height</th>\n",
              "      <th>Whole weight</th>\n",
              "      <th>Shucked weight</th>\n",
              "      <th>Viscera weight</th>\n",
              "      <th>Shell weight</th>\n",
              "      <th>Rings</th>\n",
              "    </tr>\n",
              "  </thead>\n",
              "  <tbody>\n",
              "    <tr>\n",
              "      <th>count</th>\n",
              "      <td>4177.000000</td>\n",
              "      <td>4177.000000</td>\n",
              "      <td>4177.000000</td>\n",
              "      <td>4177.000000</td>\n",
              "      <td>4177.000000</td>\n",
              "      <td>4177.000000</td>\n",
              "      <td>4177.000000</td>\n",
              "      <td>4177.000000</td>\n",
              "    </tr>\n",
              "    <tr>\n",
              "      <th>mean</th>\n",
              "      <td>0.523992</td>\n",
              "      <td>0.407881</td>\n",
              "      <td>0.139516</td>\n",
              "      <td>0.828742</td>\n",
              "      <td>0.359367</td>\n",
              "      <td>0.180594</td>\n",
              "      <td>0.238831</td>\n",
              "      <td>9.933684</td>\n",
              "    </tr>\n",
              "    <tr>\n",
              "      <th>std</th>\n",
              "      <td>0.120093</td>\n",
              "      <td>0.099240</td>\n",
              "      <td>0.041827</td>\n",
              "      <td>0.490389</td>\n",
              "      <td>0.221963</td>\n",
              "      <td>0.109614</td>\n",
              "      <td>0.139203</td>\n",
              "      <td>3.224169</td>\n",
              "    </tr>\n",
              "    <tr>\n",
              "      <th>min</th>\n",
              "      <td>0.075000</td>\n",
              "      <td>0.055000</td>\n",
              "      <td>0.000000</td>\n",
              "      <td>0.002000</td>\n",
              "      <td>0.001000</td>\n",
              "      <td>0.000500</td>\n",
              "      <td>0.001500</td>\n",
              "      <td>1.000000</td>\n",
              "    </tr>\n",
              "    <tr>\n",
              "      <th>25%</th>\n",
              "      <td>0.450000</td>\n",
              "      <td>0.350000</td>\n",
              "      <td>0.115000</td>\n",
              "      <td>0.441500</td>\n",
              "      <td>0.186000</td>\n",
              "      <td>0.093500</td>\n",
              "      <td>0.130000</td>\n",
              "      <td>8.000000</td>\n",
              "    </tr>\n",
              "    <tr>\n",
              "      <th>50%</th>\n",
              "      <td>0.545000</td>\n",
              "      <td>0.425000</td>\n",
              "      <td>0.140000</td>\n",
              "      <td>0.799500</td>\n",
              "      <td>0.336000</td>\n",
              "      <td>0.171000</td>\n",
              "      <td>0.234000</td>\n",
              "      <td>9.000000</td>\n",
              "    </tr>\n",
              "    <tr>\n",
              "      <th>75%</th>\n",
              "      <td>0.615000</td>\n",
              "      <td>0.480000</td>\n",
              "      <td>0.165000</td>\n",
              "      <td>1.153000</td>\n",
              "      <td>0.502000</td>\n",
              "      <td>0.253000</td>\n",
              "      <td>0.329000</td>\n",
              "      <td>11.000000</td>\n",
              "    </tr>\n",
              "    <tr>\n",
              "      <th>max</th>\n",
              "      <td>0.815000</td>\n",
              "      <td>0.650000</td>\n",
              "      <td>1.130000</td>\n",
              "      <td>2.825500</td>\n",
              "      <td>1.488000</td>\n",
              "      <td>0.760000</td>\n",
              "      <td>1.005000</td>\n",
              "      <td>29.000000</td>\n",
              "    </tr>\n",
              "  </tbody>\n",
              "</table>\n",
              "</div>\n",
              "      <button class=\"colab-df-convert\" onclick=\"convertToInteractive('df-804c57b6-95fb-4d80-a493-d275079c99fb')\"\n",
              "              title=\"Convert this dataframe to an interactive table.\"\n",
              "              style=\"display:none;\">\n",
              "        \n",
              "  <svg xmlns=\"http://www.w3.org/2000/svg\" height=\"24px\"viewBox=\"0 0 24 24\"\n",
              "       width=\"24px\">\n",
              "    <path d=\"M0 0h24v24H0V0z\" fill=\"none\"/>\n",
              "    <path d=\"M18.56 5.44l.94 2.06.94-2.06 2.06-.94-2.06-.94-.94-2.06-.94 2.06-2.06.94zm-11 1L8.5 8.5l.94-2.06 2.06-.94-2.06-.94L8.5 2.5l-.94 2.06-2.06.94zm10 10l.94 2.06.94-2.06 2.06-.94-2.06-.94-.94-2.06-.94 2.06-2.06.94z\"/><path d=\"M17.41 7.96l-1.37-1.37c-.4-.4-.92-.59-1.43-.59-.52 0-1.04.2-1.43.59L10.3 9.45l-7.72 7.72c-.78.78-.78 2.05 0 2.83L4 21.41c.39.39.9.59 1.41.59.51 0 1.02-.2 1.41-.59l7.78-7.78 2.81-2.81c.8-.78.8-2.07 0-2.86zM5.41 20L4 18.59l7.72-7.72 1.47 1.35L5.41 20z\"/>\n",
              "  </svg>\n",
              "      </button>\n",
              "      \n",
              "  <style>\n",
              "    .colab-df-container {\n",
              "      display:flex;\n",
              "      flex-wrap:wrap;\n",
              "      gap: 12px;\n",
              "    }\n",
              "\n",
              "    .colab-df-convert {\n",
              "      background-color: #E8F0FE;\n",
              "      border: none;\n",
              "      border-radius: 50%;\n",
              "      cursor: pointer;\n",
              "      display: none;\n",
              "      fill: #1967D2;\n",
              "      height: 32px;\n",
              "      padding: 0 0 0 0;\n",
              "      width: 32px;\n",
              "    }\n",
              "\n",
              "    .colab-df-convert:hover {\n",
              "      background-color: #E2EBFA;\n",
              "      box-shadow: 0px 1px 2px rgba(60, 64, 67, 0.3), 0px 1px 3px 1px rgba(60, 64, 67, 0.15);\n",
              "      fill: #174EA6;\n",
              "    }\n",
              "\n",
              "    [theme=dark] .colab-df-convert {\n",
              "      background-color: #3B4455;\n",
              "      fill: #D2E3FC;\n",
              "    }\n",
              "\n",
              "    [theme=dark] .colab-df-convert:hover {\n",
              "      background-color: #434B5C;\n",
              "      box-shadow: 0px 1px 3px 1px rgba(0, 0, 0, 0.15);\n",
              "      filter: drop-shadow(0px 1px 2px rgba(0, 0, 0, 0.3));\n",
              "      fill: #FFFFFF;\n",
              "    }\n",
              "  </style>\n",
              "\n",
              "      <script>\n",
              "        const buttonEl =\n",
              "          document.querySelector('#df-804c57b6-95fb-4d80-a493-d275079c99fb button.colab-df-convert');\n",
              "        buttonEl.style.display =\n",
              "          google.colab.kernel.accessAllowed ? 'block' : 'none';\n",
              "\n",
              "        async function convertToInteractive(key) {\n",
              "          const element = document.querySelector('#df-804c57b6-95fb-4d80-a493-d275079c99fb');\n",
              "          const dataTable =\n",
              "            await google.colab.kernel.invokeFunction('convertToInteractive',\n",
              "                                                     [key], {});\n",
              "          if (!dataTable) return;\n",
              "\n",
              "          const docLinkHtml = 'Like what you see? Visit the ' +\n",
              "            '<a target=\"_blank\" href=https://colab.research.google.com/notebooks/data_table.ipynb>data table notebook</a>'\n",
              "            + ' to learn more about interactive tables.';\n",
              "          element.innerHTML = '';\n",
              "          dataTable['output_type'] = 'display_data';\n",
              "          await google.colab.output.renderOutput(dataTable, element);\n",
              "          const docLink = document.createElement('div');\n",
              "          docLink.innerHTML = docLinkHtml;\n",
              "          element.appendChild(docLink);\n",
              "        }\n",
              "      </script>\n",
              "    </div>\n",
              "  </div>\n",
              "  "
            ]
          },
          "metadata": {},
          "execution_count": 115
        }
      ]
    },
    {
      "cell_type": "code",
      "source": [
        "l = abaloneDataset['Rings'].tolist()\n",
        "t = []\n",
        "for i in l:\n",
        "    if(i>=0 and i <=8):\n",
        "        t.append(0)\n",
        "    elif(i>=9 and i <=10):\n",
        "        t.append(1)\n",
        "    else:\n",
        "        t.append(2)"
      ],
      "metadata": {
        "id": "XQhx6-rApM1B"
      },
      "execution_count": null,
      "outputs": []
    },
    {
      "cell_type": "code",
      "source": [
        "abaloneDataset.drop(['Rings'], axis = 1)\n",
        "abaloneDataset['Rings'] = t"
      ],
      "metadata": {
        "id": "m7ys_pYjp1Nj"
      },
      "execution_count": null,
      "outputs": []
    },
    {
      "cell_type": "code",
      "source": [
        "abaloneDataset.shape"
      ],
      "metadata": {
        "colab": {
          "base_uri": "https://localhost:8080/"
        },
        "id": "Zq9_ajaOaiKT",
        "outputId": "329e8b38-ff2e-457b-941d-4c5310d1492d"
      },
      "execution_count": null,
      "outputs": [
        {
          "output_type": "execute_result",
          "data": {
            "text/plain": [
              "(4177, 9)"
            ]
          },
          "metadata": {},
          "execution_count": 118
        }
      ]
    },
    {
      "cell_type": "code",
      "source": [
        "Label_Encode = LabelEncoder()\n",
        "abaloneDataset['Sex'] = Label_Encode.fit_transform(abaloneDataset['Sex'])"
      ],
      "metadata": {
        "id": "wHQBdNwyfhlQ"
      },
      "execution_count": null,
      "outputs": []
    },
    {
      "cell_type": "code",
      "source": [
        "target = 'Rings'\n",
        "X = abaloneDataset.iloc[:, abaloneDataset.columns != target]\n",
        "y = abaloneDataset.iloc[:, abaloneDataset.columns.get_loc(target)]\n",
        "x_train, x_test, y_train, y_test = train_test_split(X, y, train_size=0.7, random_state=42, stratify = y)"
      ],
      "metadata": {
        "id": "zjl13MZtF7Sm"
      },
      "execution_count": null,
      "outputs": []
    },
    {
      "cell_type": "code",
      "source": [
        "print(x_train.shape, x_test.shape, y_train.shape, y_test.shape)"
      ],
      "metadata": {
        "colab": {
          "base_uri": "https://localhost:8080/"
        },
        "id": "41agvyNJdLGJ",
        "outputId": "4d51a981-c33a-4702-db2e-7183127866e9"
      },
      "execution_count": null,
      "outputs": [
        {
          "output_type": "stream",
          "name": "stdout",
          "text": [
            "(2923, 8) (1254, 8) (2923,) (1254,)\n"
          ]
        }
      ]
    },
    {
      "cell_type": "code",
      "source": [
        "x_train.info()"
      ],
      "metadata": {
        "colab": {
          "base_uri": "https://localhost:8080/"
        },
        "id": "C7H7RKwufcDq",
        "outputId": "46d53ddd-ab9c-4026-a9d1-b99c16b40efd"
      },
      "execution_count": null,
      "outputs": [
        {
          "output_type": "stream",
          "name": "stdout",
          "text": [
            "<class 'pandas.core.frame.DataFrame'>\n",
            "Int64Index: 2923 entries, 3029 to 608\n",
            "Data columns (total 8 columns):\n",
            " #   Column          Non-Null Count  Dtype  \n",
            "---  ------          --------------  -----  \n",
            " 0   Sex             2923 non-null   int64  \n",
            " 1   Length          2923 non-null   float64\n",
            " 2   Diameter        2923 non-null   float64\n",
            " 3   Height          2923 non-null   float64\n",
            " 4   Whole weight    2923 non-null   float64\n",
            " 5   Shucked weight  2923 non-null   float64\n",
            " 6   Viscera weight  2923 non-null   float64\n",
            " 7   Shell weight    2923 non-null   float64\n",
            "dtypes: float64(7), int64(1)\n",
            "memory usage: 205.5 KB\n"
          ]
        }
      ]
    },
    {
      "cell_type": "code",
      "source": [
        "x_train = x_train.values\n",
        "y_train = y_train.values\n",
        "x_test = x_test.values\n",
        "y_test = y_test.values"
      ],
      "metadata": {
        "id": "6OUgL1AsdsiW"
      },
      "execution_count": null,
      "outputs": []
    },
    {
      "cell_type": "code",
      "source": [
        "sns.distplot(y_train)"
      ],
      "metadata": {
        "colab": {
          "base_uri": "https://localhost:8080/",
          "height": 283
        },
        "id": "iWpWZeuAczr8",
        "outputId": "bc956d44-1333-4a2a-91fa-b185f2f546b5"
      },
      "execution_count": null,
      "outputs": [
        {
          "output_type": "execute_result",
          "data": {
            "text/plain": [
              "<matplotlib.axes._subplots.AxesSubplot at 0x7fe30231e350>"
            ]
          },
          "metadata": {},
          "execution_count": 124
        },
        {
          "output_type": "display_data",
          "data": {
            "text/plain": [
              "<Figure size 432x288 with 1 Axes>"
            ],
            "image/png": "[encoded data removed]"
          },
          "metadata": {
            "needs_background": "light"
          }
        }
      ]
    },
    {
      "cell_type": "code",
      "source": [
        "sns.distplot(y_test)"
      ],
      "metadata": {
        "colab": {
          "base_uri": "https://localhost:8080/",
          "height": 283
        },
        "id": "FoQlp3Oac4xD",
        "outputId": "0be38c37-1882-4444-84ea-d2ba48ae24c6"
      },
      "execution_count": null,
      "outputs": [
        {
          "output_type": "execute_result",
          "data": {
            "text/plain": [
              "<matplotlib.axes._subplots.AxesSubplot at 0x7fe301b903d0>"
            ]
          },
          "metadata": {},
          "execution_count": 125
        },
        {
          "output_type": "display_data",
          "data": {
            "text/plain": [
              "<Figure size 432x288 with 1 Axes>"
            ],
            "image/png": "[encoded data removed]"
          },
          "metadata": {
            "needs_background": "light"
          }
        }
      ]
    },
    {
      "cell_type": "markdown",
      "source": [
        "##MLP"
      ],
      "metadata": {
        "id": "MqmBiXcyE4Aq"
      }
    },
    {
      "cell_type": "code",
      "source": [
        "#Define training hyperprameters.\n",
        "batch_size = 35\n",
        "num_epochs = 500\n",
        "learning_rate = 0.001\n",
        "size_hidden_1 = 25\n",
        "size_hidden_2 = 25\n",
        "num_classes = 3\n",
        "\n",
        "#Calculate some other hyperparameters based on data.  \n",
        "batch_no = len(x_train) // batch_size  #batches\n",
        "cols = x_train.shape[1] #Number of columns in input matrix"
      ],
      "metadata": {
        "id": "JDQn5_iHcxMt"
      },
      "execution_count": null,
      "outputs": []
    },
    {
      "cell_type": "code",
      "source": [
        "#Create the model\n",
        "device = torch.device(\"cuda:0\" if torch.cuda.is_available() else \"cpu\")\n",
        "class Net(torch.nn.Module):\n",
        "    def __init__(self, num_inputs, size_hidden_1, size_hidden_2, n_output):\n",
        "        super(Net, self).__init__()\n",
        "        self.hidden_layer_1 = torch.nn.Linear(num_inputs, size_hidden_1)   # hidden layer\n",
        "        self.activation_1 = torch.nn.Tanh() # activation layer\n",
        "\n",
        "        self.hidden_layer_2 = torch.nn.Linear(num_inputs, size_hidden_2)   # hidden layer\n",
        "        self.activation_2 = torch.nn.Tanh() # activation layer\n",
        "        \n",
        "        self.output_act = torch.nn.Sigmoid()\n",
        "\n",
        "    def forward(self, x):\n",
        "        h1 = self.activation_1(self.hidden_layer_1(x))      # activation function for hidden layer\n",
        "        h2 = self.activation_2(self.hidden_layer_2(x))      # activation function for hidden layer\n",
        "        out = self.output_act(h1 + h2)                    # output\n",
        "        return out\n",
        "\n",
        "net = Net(cols, size_hidden_1, size_hidden_2, num_classes)\n",
        "summary(net, (1, 8))"
      ],
      "metadata": {
        "colab": {
          "base_uri": "https://localhost:8080/"
        },
        "id": "bCAMruW5c8N6",
        "outputId": "57342999-9c76-4a59-c8d1-df06af6331ce"
      },
      "execution_count": null,
      "outputs": [
        {
          "output_type": "stream",
          "name": "stdout",
          "text": [
            "----------------------------------------------------------------\n",
            "        Layer (type)               Output Shape         Param #\n",
            "================================================================\n",
            "            Linear-1                [-1, 1, 25]             225\n",
            "              Tanh-2                [-1, 1, 25]               0\n",
            "            Linear-3                [-1, 1, 25]             225\n",
            "              Tanh-4                [-1, 1, 25]               0\n",
            "           Sigmoid-5                [-1, 1, 25]               0\n",
            "================================================================\n",
            "Total params: 450\n",
            "Trainable params: 450\n",
            "Non-trainable params: 0\n",
            "----------------------------------------------------------------\n",
            "Input size (MB): 0.00\n",
            "Forward/backward pass size (MB): 0.00\n",
            "Params size (MB): 0.00\n",
            "Estimated Total Size (MB): 0.00\n",
            "----------------------------------------------------------------\n"
          ]
        }
      ]
    },
    {
      "cell_type": "code",
      "source": [
        "optimizer = torch.optim.SGD(net.parameters(), lr=learning_rate)\n",
        "loss_func = torch.nn.CrossEntropyLoss()  "
      ],
      "metadata": {
        "id": "L_O1biqidxb0"
      },
      "execution_count": null,
      "outputs": []
    },
    {
      "cell_type": "code",
      "source": [
        "def get_accuracy(logit, target, batch_size):\n",
        "    ''' Obtain accuracy for training round '''\n",
        "    corrects = (torch.max(logit, 1)[1].view(target.size()).data == target.data).sum()\n",
        "    accuracy = 100.0 * corrects/batch_size\n",
        "    return accuracy.item()"
      ],
      "metadata": {
        "id": "QRsqYgBbd5pW"
      },
      "execution_count": null,
      "outputs": []
    },
    {
      "cell_type": "code",
      "source": [
        "for epoch in range(num_epochs):\n",
        "    x_train, y_train = shuffle(x_train, y_train)\n",
        "    train_acc = 0.0\n",
        "    running_loss = 0.0\n",
        "    for i in range(batch_no):\n",
        "        start = i * batch_size\n",
        "        end = start + batch_size\n",
        "        inputs = Variable(torch.FloatTensor(x_train[start:end]))\n",
        "        labels = Variable(torch.LongTensor(y_train[start:end]))\n",
        "        optimizer.zero_grad()\n",
        "        outputs = net(inputs)\n",
        "        loss = loss_func(outputs, labels)\n",
        "        loss.backward()\n",
        "        optimizer.step()\n",
        "        running_loss += loss.item()\n",
        "        acc = get_accuracy(outputs, labels, batch_size)\n",
        "        train_acc += acc\n",
        "    print('Epoch: %d | Loss: %.4f | Train Accuracy: %.2f' \\\n",
        "          %(epoch+1, running_loss / (i+1), train_acc/(i+1)))  \n",
        "    running_loss = 0.0"
      ],
      "metadata": {
        "colab": {
          "base_uri": "https://localhost:8080/"
        },
        "id": "V7AevPTCdy85",
        "outputId": "66bf5911-d646-4e95-85be-044a333c704a"
      },
      "execution_count": null,
      "outputs": [
        {
          "output_type": "stream",
          "name": "stdout",
          "text": [
            "Epoch: 1 | Loss: 3.2223 | Train Accuracy: 0.00\n",
            "Epoch: 2 | Loss: 3.2141 | Train Accuracy: 0.00\n",
            "Epoch: 3 | Loss: 3.2060 | Train Accuracy: 0.00\n",
            "Epoch: 4 | Loss: 3.1980 | Train Accuracy: 0.00\n",
            "Epoch: 5 | Loss: 3.1897 | Train Accuracy: 0.00\n",
            "Epoch: 6 | Loss: 3.1819 | Train Accuracy: 0.00\n",
            "Epoch: 7 | Loss: 3.1735 | Train Accuracy: 0.00\n",
            "Epoch: 8 | Loss: 3.1658 | Train Accuracy: 0.31\n",
            "Epoch: 9 | Loss: 3.1584 | Train Accuracy: 1.00\n",
            "Epoch: 10 | Loss: 3.1505 | Train Accuracy: 1.96\n",
            "Epoch: 11 | Loss: 3.1430 | Train Accuracy: 2.38\n",
            "Epoch: 12 | Loss: 3.1356 | Train Accuracy: 2.75\n",
            "Epoch: 13 | Loss: 3.1282 | Train Accuracy: 3.06\n",
            "Epoch: 14 | Loss: 3.1211 | Train Accuracy: 3.30\n",
            "Epoch: 15 | Loss: 3.1143 | Train Accuracy: 3.58\n",
            "Epoch: 16 | Loss: 3.1073 | Train Accuracy: 7.33\n",
            "Epoch: 17 | Loss: 3.1009 | Train Accuracy: 13.63\n",
            "Epoch: 18 | Loss: 3.0943 | Train Accuracy: 18.97\n",
            "Epoch: 19 | Loss: 3.0880 | Train Accuracy: 24.34\n",
            "Epoch: 20 | Loss: 3.0816 | Train Accuracy: 29.88\n",
            "Epoch: 21 | Loss: 3.0757 | Train Accuracy: 32.15\n",
            "Epoch: 22 | Loss: 3.0701 | Train Accuracy: 32.91\n",
            "Epoch: 23 | Loss: 3.0641 | Train Accuracy: 33.46\n",
            "Epoch: 24 | Loss: 3.0587 | Train Accuracy: 33.70\n",
            "Epoch: 25 | Loss: 3.0535 | Train Accuracy: 33.87\n",
            "Epoch: 26 | Loss: 3.0483 | Train Accuracy: 34.22\n",
            "Epoch: 27 | Loss: 3.0431 | Train Accuracy: 34.29\n",
            "Epoch: 28 | Loss: 3.0382 | Train Accuracy: 34.25\n",
            "Epoch: 29 | Loss: 3.0333 | Train Accuracy: 34.35\n",
            "Epoch: 30 | Loss: 3.0285 | Train Accuracy: 34.35\n",
            "Epoch: 31 | Loss: 3.0240 | Train Accuracy: 34.49\n",
            "Epoch: 32 | Loss: 3.0198 | Train Accuracy: 34.53\n",
            "Epoch: 33 | Loss: 3.0154 | Train Accuracy: 34.60\n",
            "Epoch: 34 | Loss: 3.0112 | Train Accuracy: 34.73\n",
            "Epoch: 35 | Loss: 3.0071 | Train Accuracy: 34.80\n",
            "Epoch: 36 | Loss: 3.0036 | Train Accuracy: 34.70\n",
            "Epoch: 37 | Loss: 2.9995 | Train Accuracy: 35.08\n",
            "Epoch: 38 | Loss: 2.9957 | Train Accuracy: 35.39\n",
            "Epoch: 39 | Loss: 2.9922 | Train Accuracy: 35.32\n",
            "Epoch: 40 | Loss: 2.9887 | Train Accuracy: 35.73\n",
            "Epoch: 41 | Loss: 2.9853 | Train Accuracy: 36.11\n",
            "Epoch: 42 | Loss: 2.9819 | Train Accuracy: 36.28\n",
            "Epoch: 43 | Loss: 2.9784 | Train Accuracy: 36.66\n",
            "Epoch: 44 | Loss: 2.9754 | Train Accuracy: 37.25\n",
            "Epoch: 45 | Loss: 2.9723 | Train Accuracy: 37.45\n",
            "Epoch: 46 | Loss: 2.9693 | Train Accuracy: 37.73\n",
            "Epoch: 47 | Loss: 2.9664 | Train Accuracy: 38.38\n",
            "Epoch: 48 | Loss: 2.9635 | Train Accuracy: 38.76\n",
            "Epoch: 49 | Loss: 2.9606 | Train Accuracy: 39.10\n",
            "Epoch: 50 | Loss: 2.9578 | Train Accuracy: 39.55\n",
            "Epoch: 51 | Loss: 2.9552 | Train Accuracy: 40.14\n",
            "Epoch: 52 | Loss: 2.9526 | Train Accuracy: 40.38\n",
            "Epoch: 53 | Loss: 2.9498 | Train Accuracy: 40.90\n",
            "Epoch: 54 | Loss: 2.9475 | Train Accuracy: 40.96\n",
            "Epoch: 55 | Loss: 2.9448 | Train Accuracy: 41.34\n",
            "Epoch: 56 | Loss: 2.9426 | Train Accuracy: 42.13\n",
            "Epoch: 57 | Loss: 2.9401 | Train Accuracy: 42.44\n",
            "Epoch: 58 | Loss: 2.9379 | Train Accuracy: 42.69\n",
            "Epoch: 59 | Loss: 2.9356 | Train Accuracy: 42.96\n",
            "Epoch: 60 | Loss: 2.9333 | Train Accuracy: 43.92\n",
            "Epoch: 61 | Loss: 2.9311 | Train Accuracy: 44.27\n",
            "Epoch: 62 | Loss: 2.9290 | Train Accuracy: 44.27\n",
            "Epoch: 63 | Loss: 2.9268 | Train Accuracy: 45.13\n",
            "Epoch: 64 | Loss: 2.9249 | Train Accuracy: 45.71\n",
            "Epoch: 65 | Loss: 2.9228 | Train Accuracy: 46.78\n",
            "Epoch: 66 | Loss: 2.9209 | Train Accuracy: 47.19\n",
            "Epoch: 67 | Loss: 2.9187 | Train Accuracy: 47.75\n",
            "Epoch: 68 | Loss: 2.9169 | Train Accuracy: 47.81\n",
            "Epoch: 69 | Loss: 2.9150 | Train Accuracy: 48.30\n",
            "Epoch: 70 | Loss: 2.9131 | Train Accuracy: 48.54\n",
            "Epoch: 71 | Loss: 2.9111 | Train Accuracy: 49.05\n",
            "Epoch: 72 | Loss: 2.9092 | Train Accuracy: 49.47\n",
            "Epoch: 73 | Loss: 2.9076 | Train Accuracy: 49.50\n",
            "Epoch: 74 | Loss: 2.9057 | Train Accuracy: 49.91\n",
            "Epoch: 75 | Loss: 2.9042 | Train Accuracy: 50.05\n",
            "Epoch: 76 | Loss: 2.9023 | Train Accuracy: 50.71\n",
            "Epoch: 77 | Loss: 2.9006 | Train Accuracy: 50.67\n",
            "Epoch: 78 | Loss: 2.8990 | Train Accuracy: 51.05\n",
            "Epoch: 79 | Loss: 2.8973 | Train Accuracy: 50.91\n",
            "Epoch: 80 | Loss: 2.8956 | Train Accuracy: 50.91\n",
            "Epoch: 81 | Loss: 2.8942 | Train Accuracy: 51.29\n",
            "Epoch: 82 | Loss: 2.8925 | Train Accuracy: 51.50\n",
            "Epoch: 83 | Loss: 2.8909 | Train Accuracy: 51.53\n",
            "Epoch: 84 | Loss: 2.8894 | Train Accuracy: 51.57\n",
            "Epoch: 85 | Loss: 2.8880 | Train Accuracy: 51.50\n",
            "Epoch: 86 | Loss: 2.8865 | Train Accuracy: 52.05\n",
            "Epoch: 87 | Loss: 2.8850 | Train Accuracy: 52.36\n",
            "Epoch: 88 | Loss: 2.8835 | Train Accuracy: 52.56\n",
            "Epoch: 89 | Loss: 2.8820 | Train Accuracy: 52.50\n",
            "Epoch: 90 | Loss: 2.8805 | Train Accuracy: 52.46\n",
            "Epoch: 91 | Loss: 2.8792 | Train Accuracy: 52.36\n",
            "Epoch: 92 | Loss: 2.8777 | Train Accuracy: 52.60\n",
            "Epoch: 93 | Loss: 2.8764 | Train Accuracy: 52.91\n",
            "Epoch: 94 | Loss: 2.8751 | Train Accuracy: 52.87\n",
            "Epoch: 95 | Loss: 2.8736 | Train Accuracy: 53.15\n",
            "Epoch: 96 | Loss: 2.8723 | Train Accuracy: 53.18\n",
            "Epoch: 97 | Loss: 2.8709 | Train Accuracy: 53.46\n",
            "Epoch: 98 | Loss: 2.8696 | Train Accuracy: 53.60\n",
            "Epoch: 99 | Loss: 2.8683 | Train Accuracy: 53.63\n",
            "Epoch: 100 | Loss: 2.8670 | Train Accuracy: 53.70\n",
            "Epoch: 101 | Loss: 2.8658 | Train Accuracy: 53.80\n",
            "Epoch: 102 | Loss: 2.8645 | Train Accuracy: 53.84\n",
            "Epoch: 103 | Loss: 2.8632 | Train Accuracy: 53.73\n",
            "Epoch: 104 | Loss: 2.8620 | Train Accuracy: 53.67\n",
            "Epoch: 105 | Loss: 2.8608 | Train Accuracy: 53.80\n",
            "Epoch: 106 | Loss: 2.8595 | Train Accuracy: 53.60\n",
            "Epoch: 107 | Loss: 2.8583 | Train Accuracy: 53.70\n",
            "Epoch: 108 | Loss: 2.8572 | Train Accuracy: 53.53\n",
            "Epoch: 109 | Loss: 2.8560 | Train Accuracy: 53.77\n",
            "Epoch: 110 | Loss: 2.8548 | Train Accuracy: 53.73\n",
            "Epoch: 111 | Loss: 2.8535 | Train Accuracy: 53.94\n",
            "Epoch: 112 | Loss: 2.8525 | Train Accuracy: 53.98\n",
            "Epoch: 113 | Loss: 2.8514 | Train Accuracy: 53.98\n",
            "Epoch: 114 | Loss: 2.8502 | Train Accuracy: 54.04\n",
            "Epoch: 115 | Loss: 2.8490 | Train Accuracy: 54.15\n",
            "Epoch: 116 | Loss: 2.8480 | Train Accuracy: 54.15\n",
            "Epoch: 117 | Loss: 2.8468 | Train Accuracy: 54.15\n",
            "Epoch: 118 | Loss: 2.8457 | Train Accuracy: 54.22\n",
            "Epoch: 119 | Loss: 2.8447 | Train Accuracy: 54.35\n",
            "Epoch: 120 | Loss: 2.8436 | Train Accuracy: 54.15\n",
            "Epoch: 121 | Loss: 2.8426 | Train Accuracy: 54.32\n",
            "Epoch: 122 | Loss: 2.8414 | Train Accuracy: 54.11\n",
            "Epoch: 123 | Loss: 2.8403 | Train Accuracy: 54.15\n",
            "Epoch: 124 | Loss: 2.8394 | Train Accuracy: 54.18\n",
            "Epoch: 125 | Loss: 2.8383 | Train Accuracy: 54.01\n",
            "Epoch: 126 | Loss: 2.8372 | Train Accuracy: 53.98\n",
            "Epoch: 127 | Loss: 2.8363 | Train Accuracy: 53.84\n",
            "Epoch: 128 | Loss: 2.8352 | Train Accuracy: 54.01\n",
            "Epoch: 129 | Loss: 2.8343 | Train Accuracy: 53.87\n",
            "Epoch: 130 | Loss: 2.8332 | Train Accuracy: 53.87\n",
            "Epoch: 131 | Loss: 2.8322 | Train Accuracy: 53.91\n",
            "Epoch: 132 | Loss: 2.8312 | Train Accuracy: 54.01\n",
            "Epoch: 133 | Loss: 2.8301 | Train Accuracy: 53.73\n",
            "Epoch: 134 | Loss: 2.8293 | Train Accuracy: 53.77\n",
            "Epoch: 135 | Loss: 2.8283 | Train Accuracy: 53.60\n",
            "Epoch: 136 | Loss: 2.8274 | Train Accuracy: 53.73\n",
            "Epoch: 137 | Loss: 2.8264 | Train Accuracy: 53.63\n",
            "Epoch: 138 | Loss: 2.8255 | Train Accuracy: 53.49\n",
            "Epoch: 139 | Loss: 2.8245 | Train Accuracy: 53.60\n",
            "Epoch: 140 | Loss: 2.8237 | Train Accuracy: 53.46\n",
            "Epoch: 141 | Loss: 2.8226 | Train Accuracy: 53.39\n",
            "Epoch: 142 | Loss: 2.8217 | Train Accuracy: 53.36\n",
            "Epoch: 143 | Loss: 2.8208 | Train Accuracy: 53.43\n",
            "Epoch: 144 | Loss: 2.8199 | Train Accuracy: 53.32\n",
            "Epoch: 145 | Loss: 2.8191 | Train Accuracy: 53.36\n",
            "Epoch: 146 | Loss: 2.8181 | Train Accuracy: 53.25\n",
            "Epoch: 147 | Loss: 2.8171 | Train Accuracy: 53.29\n",
            "Epoch: 148 | Loss: 2.8164 | Train Accuracy: 53.18\n",
            "Epoch: 149 | Loss: 2.8154 | Train Accuracy: 53.15\n",
            "Epoch: 150 | Loss: 2.8147 | Train Accuracy: 53.22\n",
            "Epoch: 151 | Loss: 2.8137 | Train Accuracy: 53.22\n",
            "Epoch: 152 | Loss: 2.8129 | Train Accuracy: 53.12\n",
            "Epoch: 153 | Loss: 2.8120 | Train Accuracy: 53.08\n",
            "Epoch: 154 | Loss: 2.8113 | Train Accuracy: 53.18\n",
            "Epoch: 155 | Loss: 2.8103 | Train Accuracy: 53.08\n",
            "Epoch: 156 | Loss: 2.8094 | Train Accuracy: 52.94\n",
            "Epoch: 157 | Loss: 2.8086 | Train Accuracy: 53.12\n",
            "Epoch: 158 | Loss: 2.8079 | Train Accuracy: 53.12\n",
            "Epoch: 159 | Loss: 2.8069 | Train Accuracy: 53.05\n",
            "Epoch: 160 | Loss: 2.8061 | Train Accuracy: 53.01\n",
            "Epoch: 161 | Loss: 2.8055 | Train Accuracy: 53.12\n",
            "Epoch: 162 | Loss: 2.8045 | Train Accuracy: 53.08\n",
            "Epoch: 163 | Loss: 2.8037 | Train Accuracy: 53.05\n",
            "Epoch: 164 | Loss: 2.8030 | Train Accuracy: 52.84\n",
            "Epoch: 165 | Loss: 2.8021 | Train Accuracy: 52.87\n",
            "Epoch: 166 | Loss: 2.8014 | Train Accuracy: 52.91\n",
            "Epoch: 167 | Loss: 2.8005 | Train Accuracy: 52.84\n",
            "Epoch: 168 | Loss: 2.7998 | Train Accuracy: 52.84\n",
            "Epoch: 169 | Loss: 2.7990 | Train Accuracy: 52.84\n",
            "Epoch: 170 | Loss: 2.7982 | Train Accuracy: 52.84\n",
            "Epoch: 171 | Loss: 2.7975 | Train Accuracy: 52.74\n",
            "Epoch: 172 | Loss: 2.7968 | Train Accuracy: 52.67\n",
            "Epoch: 173 | Loss: 2.7960 | Train Accuracy: 52.63\n",
            "Epoch: 174 | Loss: 2.7953 | Train Accuracy: 52.67\n",
            "Epoch: 175 | Loss: 2.7944 | Train Accuracy: 52.56\n",
            "Epoch: 176 | Loss: 2.7938 | Train Accuracy: 52.43\n",
            "Epoch: 177 | Loss: 2.7930 | Train Accuracy: 52.63\n",
            "Epoch: 178 | Loss: 2.7922 | Train Accuracy: 52.46\n",
            "Epoch: 179 | Loss: 2.7914 | Train Accuracy: 52.43\n",
            "Epoch: 180 | Loss: 2.7907 | Train Accuracy: 52.29\n",
            "Epoch: 181 | Loss: 2.7900 | Train Accuracy: 52.25\n",
            "Epoch: 182 | Loss: 2.7894 | Train Accuracy: 52.01\n",
            "Epoch: 183 | Loss: 2.7887 | Train Accuracy: 52.05\n",
            "Epoch: 184 | Loss: 2.7878 | Train Accuracy: 51.94\n",
            "Epoch: 185 | Loss: 2.7872 | Train Accuracy: 51.88\n",
            "Epoch: 186 | Loss: 2.7865 | Train Accuracy: 51.77\n",
            "Epoch: 187 | Loss: 2.7858 | Train Accuracy: 51.74\n",
            "Epoch: 188 | Loss: 2.7851 | Train Accuracy: 51.77\n",
            "Epoch: 189 | Loss: 2.7845 | Train Accuracy: 51.74\n",
            "Epoch: 190 | Loss: 2.7839 | Train Accuracy: 51.50\n",
            "Epoch: 191 | Loss: 2.7832 | Train Accuracy: 51.74\n",
            "Epoch: 192 | Loss: 2.7824 | Train Accuracy: 51.57\n",
            "Epoch: 193 | Loss: 2.7817 | Train Accuracy: 51.70\n",
            "Epoch: 194 | Loss: 2.7810 | Train Accuracy: 51.60\n",
            "Epoch: 195 | Loss: 2.7805 | Train Accuracy: 51.60\n",
            "Epoch: 196 | Loss: 2.7797 | Train Accuracy: 51.57\n",
            "Epoch: 197 | Loss: 2.7791 | Train Accuracy: 51.57\n",
            "Epoch: 198 | Loss: 2.7784 | Train Accuracy: 51.46\n",
            "Epoch: 199 | Loss: 2.7777 | Train Accuracy: 51.36\n",
            "Epoch: 200 | Loss: 2.7772 | Train Accuracy: 51.39\n",
            "Epoch: 201 | Loss: 2.7766 | Train Accuracy: 51.50\n",
            "Epoch: 202 | Loss: 2.7759 | Train Accuracy: 51.19\n",
            "Epoch: 203 | Loss: 2.7753 | Train Accuracy: 51.36\n",
            "Epoch: 204 | Loss: 2.7745 | Train Accuracy: 51.22\n",
            "Epoch: 205 | Loss: 2.7738 | Train Accuracy: 51.33\n",
            "Epoch: 206 | Loss: 2.7732 | Train Accuracy: 51.39\n",
            "Epoch: 207 | Loss: 2.7726 | Train Accuracy: 51.19\n",
            "Epoch: 208 | Loss: 2.7721 | Train Accuracy: 51.22\n",
            "Epoch: 209 | Loss: 2.7714 | Train Accuracy: 51.26\n",
            "Epoch: 210 | Loss: 2.7708 | Train Accuracy: 51.15\n",
            "Epoch: 211 | Loss: 2.7702 | Train Accuracy: 51.22\n",
            "Epoch: 212 | Loss: 2.7696 | Train Accuracy: 51.08\n",
            "Epoch: 213 | Loss: 2.7689 | Train Accuracy: 51.29\n",
            "Epoch: 214 | Loss: 2.7684 | Train Accuracy: 51.05\n",
            "Epoch: 215 | Loss: 2.7678 | Train Accuracy: 51.12\n",
            "Epoch: 216 | Loss: 2.7673 | Train Accuracy: 50.95\n",
            "Epoch: 217 | Loss: 2.7666 | Train Accuracy: 51.08\n",
            "Epoch: 218 | Loss: 2.7660 | Train Accuracy: 50.91\n",
            "Epoch: 219 | Loss: 2.7656 | Train Accuracy: 50.88\n",
            "Epoch: 220 | Loss: 2.7651 | Train Accuracy: 50.84\n",
            "Epoch: 221 | Loss: 2.7643 | Train Accuracy: 50.77\n",
            "Epoch: 222 | Loss: 2.7638 | Train Accuracy: 50.77\n",
            "Epoch: 223 | Loss: 2.7633 | Train Accuracy: 50.67\n",
            "Epoch: 224 | Loss: 2.7626 | Train Accuracy: 50.57\n",
            "Epoch: 225 | Loss: 2.7620 | Train Accuracy: 50.71\n",
            "Epoch: 226 | Loss: 2.7614 | Train Accuracy: 50.64\n",
            "Epoch: 227 | Loss: 2.7609 | Train Accuracy: 50.64\n",
            "Epoch: 228 | Loss: 2.7605 | Train Accuracy: 50.53\n",
            "Epoch: 229 | Loss: 2.7599 | Train Accuracy: 50.64\n",
            "Epoch: 230 | Loss: 2.7594 | Train Accuracy: 50.53\n",
            "Epoch: 231 | Loss: 2.7587 | Train Accuracy: 50.50\n",
            "Epoch: 232 | Loss: 2.7583 | Train Accuracy: 50.46\n",
            "Epoch: 233 | Loss: 2.7578 | Train Accuracy: 50.33\n",
            "Epoch: 234 | Loss: 2.7572 | Train Accuracy: 50.26\n",
            "Epoch: 235 | Loss: 2.7567 | Train Accuracy: 50.29\n",
            "Epoch: 236 | Loss: 2.7561 | Train Accuracy: 50.22\n",
            "Epoch: 237 | Loss: 2.7556 | Train Accuracy: 50.22\n",
            "Epoch: 238 | Loss: 2.7552 | Train Accuracy: 50.29\n",
            "Epoch: 239 | Loss: 2.7546 | Train Accuracy: 50.22\n",
            "Epoch: 240 | Loss: 2.7540 | Train Accuracy: 49.98\n",
            "Epoch: 241 | Loss: 2.7534 | Train Accuracy: 49.98\n",
            "Epoch: 242 | Loss: 2.7530 | Train Accuracy: 50.02\n",
            "Epoch: 243 | Loss: 2.7526 | Train Accuracy: 49.98\n",
            "Epoch: 244 | Loss: 2.7519 | Train Accuracy: 49.85\n",
            "Epoch: 245 | Loss: 2.7516 | Train Accuracy: 49.95\n",
            "Epoch: 246 | Loss: 2.7509 | Train Accuracy: 49.85\n",
            "Epoch: 247 | Loss: 2.7505 | Train Accuracy: 49.88\n",
            "Epoch: 248 | Loss: 2.7499 | Train Accuracy: 49.67\n",
            "Epoch: 249 | Loss: 2.7493 | Train Accuracy: 49.64\n",
            "Epoch: 250 | Loss: 2.7490 | Train Accuracy: 49.57\n",
            "Epoch: 251 | Loss: 2.7487 | Train Accuracy: 49.78\n",
            "Epoch: 252 | Loss: 2.7481 | Train Accuracy: 49.67\n",
            "Epoch: 253 | Loss: 2.7475 | Train Accuracy: 49.67\n",
            "Epoch: 254 | Loss: 2.7470 | Train Accuracy: 49.57\n",
            "Epoch: 255 | Loss: 2.7465 | Train Accuracy: 49.57\n",
            "Epoch: 256 | Loss: 2.7460 | Train Accuracy: 49.60\n",
            "Epoch: 257 | Loss: 2.7457 | Train Accuracy: 49.50\n",
            "Epoch: 258 | Loss: 2.7451 | Train Accuracy: 49.50\n",
            "Epoch: 259 | Loss: 2.7447 | Train Accuracy: 49.50\n",
            "Epoch: 260 | Loss: 2.7442 | Train Accuracy: 49.33\n",
            "Epoch: 261 | Loss: 2.7438 | Train Accuracy: 49.33\n",
            "Epoch: 262 | Loss: 2.7434 | Train Accuracy: 49.36\n",
            "Epoch: 263 | Loss: 2.7428 | Train Accuracy: 49.50\n",
            "Epoch: 264 | Loss: 2.7423 | Train Accuracy: 49.40\n",
            "Epoch: 265 | Loss: 2.7419 | Train Accuracy: 49.29\n",
            "Epoch: 266 | Loss: 2.7413 | Train Accuracy: 49.33\n",
            "Epoch: 267 | Loss: 2.7410 | Train Accuracy: 49.29\n",
            "Epoch: 268 | Loss: 2.7406 | Train Accuracy: 49.23\n",
            "Epoch: 269 | Loss: 2.7401 | Train Accuracy: 49.16\n",
            "Epoch: 270 | Loss: 2.7396 | Train Accuracy: 49.26\n",
            "Epoch: 271 | Loss: 2.7392 | Train Accuracy: 49.26\n",
            "Epoch: 272 | Loss: 2.7389 | Train Accuracy: 49.16\n",
            "Epoch: 273 | Loss: 2.7383 | Train Accuracy: 49.02\n",
            "Epoch: 274 | Loss: 2.7380 | Train Accuracy: 49.02\n",
            "Epoch: 275 | Loss: 2.7377 | Train Accuracy: 49.09\n",
            "Epoch: 276 | Loss: 2.7372 | Train Accuracy: 49.19\n",
            "Epoch: 277 | Loss: 2.7368 | Train Accuracy: 49.05\n",
            "Epoch: 278 | Loss: 2.7361 | Train Accuracy: 48.98\n",
            "Epoch: 279 | Loss: 2.7358 | Train Accuracy: 48.88\n",
            "Epoch: 280 | Loss: 2.7355 | Train Accuracy: 49.02\n",
            "Epoch: 281 | Loss: 2.7350 | Train Accuracy: 48.95\n",
            "Epoch: 282 | Loss: 2.7345 | Train Accuracy: 48.95\n",
            "Epoch: 283 | Loss: 2.7341 | Train Accuracy: 48.88\n",
            "Epoch: 284 | Loss: 2.7338 | Train Accuracy: 48.92\n",
            "Epoch: 285 | Loss: 2.7334 | Train Accuracy: 48.95\n",
            "Epoch: 286 | Loss: 2.7329 | Train Accuracy: 48.71\n",
            "Epoch: 287 | Loss: 2.7325 | Train Accuracy: 48.88\n",
            "Epoch: 288 | Loss: 2.7322 | Train Accuracy: 48.88\n",
            "Epoch: 289 | Loss: 2.7318 | Train Accuracy: 48.78\n",
            "Epoch: 290 | Loss: 2.7314 | Train Accuracy: 48.64\n",
            "Epoch: 291 | Loss: 2.7310 | Train Accuracy: 48.67\n",
            "Epoch: 292 | Loss: 2.7307 | Train Accuracy: 48.78\n",
            "Epoch: 293 | Loss: 2.7302 | Train Accuracy: 48.71\n",
            "Epoch: 294 | Loss: 2.7299 | Train Accuracy: 48.67\n",
            "Epoch: 295 | Loss: 2.7294 | Train Accuracy: 48.50\n",
            "Epoch: 296 | Loss: 2.7291 | Train Accuracy: 48.64\n",
            "Epoch: 297 | Loss: 2.7287 | Train Accuracy: 48.43\n",
            "Epoch: 298 | Loss: 2.7283 | Train Accuracy: 48.40\n",
            "Epoch: 299 | Loss: 2.7279 | Train Accuracy: 48.67\n",
            "Epoch: 300 | Loss: 2.7275 | Train Accuracy: 48.54\n",
            "Epoch: 301 | Loss: 2.7272 | Train Accuracy: 48.47\n",
            "Epoch: 302 | Loss: 2.7267 | Train Accuracy: 48.54\n",
            "Epoch: 303 | Loss: 2.7264 | Train Accuracy: 48.33\n",
            "Epoch: 304 | Loss: 2.7261 | Train Accuracy: 48.40\n",
            "Epoch: 305 | Loss: 2.7256 | Train Accuracy: 48.43\n",
            "Epoch: 306 | Loss: 2.7253 | Train Accuracy: 48.43\n",
            "Epoch: 307 | Loss: 2.7247 | Train Accuracy: 48.50\n",
            "Epoch: 308 | Loss: 2.7246 | Train Accuracy: 48.33\n",
            "Epoch: 309 | Loss: 2.7243 | Train Accuracy: 48.23\n",
            "Epoch: 310 | Loss: 2.7238 | Train Accuracy: 48.19\n",
            "Epoch: 311 | Loss: 2.7234 | Train Accuracy: 48.16\n",
            "Epoch: 312 | Loss: 2.7231 | Train Accuracy: 48.23\n",
            "Epoch: 313 | Loss: 2.7227 | Train Accuracy: 48.16\n",
            "Epoch: 314 | Loss: 2.7223 | Train Accuracy: 48.06\n",
            "Epoch: 315 | Loss: 2.7219 | Train Accuracy: 48.02\n",
            "Epoch: 316 | Loss: 2.7217 | Train Accuracy: 48.06\n",
            "Epoch: 317 | Loss: 2.7213 | Train Accuracy: 48.12\n",
            "Epoch: 318 | Loss: 2.7210 | Train Accuracy: 47.92\n",
            "Epoch: 319 | Loss: 2.7206 | Train Accuracy: 47.81\n",
            "Epoch: 320 | Loss: 2.7203 | Train Accuracy: 47.81\n",
            "Epoch: 321 | Loss: 2.7199 | Train Accuracy: 47.85\n",
            "Epoch: 322 | Loss: 2.7196 | Train Accuracy: 47.75\n",
            "Epoch: 323 | Loss: 2.7193 | Train Accuracy: 47.81\n",
            "Epoch: 324 | Loss: 2.7190 | Train Accuracy: 47.92\n",
            "Epoch: 325 | Loss: 2.7186 | Train Accuracy: 47.95\n",
            "Epoch: 326 | Loss: 2.7183 | Train Accuracy: 47.78\n",
            "Epoch: 327 | Loss: 2.7179 | Train Accuracy: 47.64\n",
            "Epoch: 328 | Loss: 2.7176 | Train Accuracy: 47.92\n",
            "Epoch: 329 | Loss: 2.7172 | Train Accuracy: 47.85\n",
            "Epoch: 330 | Loss: 2.7169 | Train Accuracy: 47.64\n",
            "Epoch: 331 | Loss: 2.7166 | Train Accuracy: 47.78\n",
            "Epoch: 332 | Loss: 2.7163 | Train Accuracy: 47.64\n",
            "Epoch: 333 | Loss: 2.7161 | Train Accuracy: 47.68\n",
            "Epoch: 334 | Loss: 2.7157 | Train Accuracy: 47.68\n",
            "Epoch: 335 | Loss: 2.7154 | Train Accuracy: 47.47\n",
            "Epoch: 336 | Loss: 2.7150 | Train Accuracy: 47.47\n",
            "Epoch: 337 | Loss: 2.7146 | Train Accuracy: 47.71\n",
            "Epoch: 338 | Loss: 2.7143 | Train Accuracy: 47.57\n",
            "Epoch: 339 | Loss: 2.7141 | Train Accuracy: 47.78\n",
            "Epoch: 340 | Loss: 2.7138 | Train Accuracy: 47.71\n",
            "Epoch: 341 | Loss: 2.7135 | Train Accuracy: 47.47\n",
            "Epoch: 342 | Loss: 2.7133 | Train Accuracy: 47.64\n",
            "Epoch: 343 | Loss: 2.7129 | Train Accuracy: 47.61\n",
            "Epoch: 344 | Loss: 2.7125 | Train Accuracy: 47.61\n",
            "Epoch: 345 | Loss: 2.7123 | Train Accuracy: 47.44\n",
            "Epoch: 346 | Loss: 2.7119 | Train Accuracy: 47.40\n",
            "Epoch: 347 | Loss: 2.7117 | Train Accuracy: 47.37\n",
            "Epoch: 348 | Loss: 2.7112 | Train Accuracy: 47.30\n",
            "Epoch: 349 | Loss: 2.7110 | Train Accuracy: 47.40\n",
            "Epoch: 350 | Loss: 2.7106 | Train Accuracy: 47.47\n",
            "Epoch: 351 | Loss: 2.7104 | Train Accuracy: 47.30\n",
            "Epoch: 352 | Loss: 2.7102 | Train Accuracy: 47.47\n",
            "Epoch: 353 | Loss: 2.7100 | Train Accuracy: 47.37\n",
            "Epoch: 354 | Loss: 2.7096 | Train Accuracy: 47.26\n",
            "Epoch: 355 | Loss: 2.7093 | Train Accuracy: 47.33\n",
            "Epoch: 356 | Loss: 2.7089 | Train Accuracy: 47.16\n",
            "Epoch: 357 | Loss: 2.7088 | Train Accuracy: 47.13\n",
            "Epoch: 358 | Loss: 2.7085 | Train Accuracy: 47.23\n",
            "Epoch: 359 | Loss: 2.7081 | Train Accuracy: 47.19\n",
            "Epoch: 360 | Loss: 2.7079 | Train Accuracy: 47.13\n",
            "Epoch: 361 | Loss: 2.7075 | Train Accuracy: 47.13\n",
            "Epoch: 362 | Loss: 2.7072 | Train Accuracy: 47.16\n",
            "Epoch: 363 | Loss: 2.7070 | Train Accuracy: 47.02\n",
            "Epoch: 364 | Loss: 2.7067 | Train Accuracy: 47.13\n",
            "Epoch: 365 | Loss: 2.7065 | Train Accuracy: 46.95\n",
            "Epoch: 366 | Loss: 2.7062 | Train Accuracy: 47.06\n",
            "Epoch: 367 | Loss: 2.7059 | Train Accuracy: 47.02\n",
            "Epoch: 368 | Loss: 2.7056 | Train Accuracy: 47.16\n",
            "Epoch: 369 | Loss: 2.7054 | Train Accuracy: 47.09\n",
            "Epoch: 370 | Loss: 2.7051 | Train Accuracy: 47.19\n",
            "Epoch: 371 | Loss: 2.7048 | Train Accuracy: 47.06\n",
            "Epoch: 372 | Loss: 2.7045 | Train Accuracy: 47.02\n",
            "Epoch: 373 | Loss: 2.7044 | Train Accuracy: 47.06\n",
            "Epoch: 374 | Loss: 2.7040 | Train Accuracy: 46.88\n",
            "Epoch: 375 | Loss: 2.7038 | Train Accuracy: 46.82\n",
            "Epoch: 376 | Loss: 2.7035 | Train Accuracy: 46.92\n",
            "Epoch: 377 | Loss: 2.7032 | Train Accuracy: 46.99\n",
            "Epoch: 378 | Loss: 2.7030 | Train Accuracy: 46.92\n",
            "Epoch: 379 | Loss: 2.7027 | Train Accuracy: 46.95\n",
            "Epoch: 380 | Loss: 2.7024 | Train Accuracy: 46.71\n",
            "Epoch: 381 | Loss: 2.7021 | Train Accuracy: 46.78\n",
            "Epoch: 382 | Loss: 2.7020 | Train Accuracy: 46.68\n",
            "Epoch: 383 | Loss: 2.7016 | Train Accuracy: 46.71\n",
            "Epoch: 384 | Loss: 2.7015 | Train Accuracy: 46.85\n",
            "Epoch: 385 | Loss: 2.7012 | Train Accuracy: 46.82\n",
            "Epoch: 386 | Loss: 2.7010 | Train Accuracy: 46.78\n",
            "Epoch: 387 | Loss: 2.7006 | Train Accuracy: 46.82\n",
            "Epoch: 388 | Loss: 2.7003 | Train Accuracy: 46.82\n",
            "Epoch: 389 | Loss: 2.7002 | Train Accuracy: 46.75\n",
            "Epoch: 390 | Loss: 2.6999 | Train Accuracy: 46.68\n",
            "Epoch: 391 | Loss: 2.6997 | Train Accuracy: 46.75\n",
            "Epoch: 392 | Loss: 2.6994 | Train Accuracy: 46.71\n",
            "Epoch: 393 | Loss: 2.6992 | Train Accuracy: 46.61\n",
            "Epoch: 394 | Loss: 2.6989 | Train Accuracy: 46.78\n",
            "Epoch: 395 | Loss: 2.6988 | Train Accuracy: 46.68\n",
            "Epoch: 396 | Loss: 2.6985 | Train Accuracy: 46.54\n",
            "Epoch: 397 | Loss: 2.6982 | Train Accuracy: 46.57\n",
            "Epoch: 398 | Loss: 2.6979 | Train Accuracy: 46.51\n",
            "Epoch: 399 | Loss: 2.6977 | Train Accuracy: 46.44\n",
            "Epoch: 400 | Loss: 2.6975 | Train Accuracy: 46.40\n",
            "Epoch: 401 | Loss: 2.6972 | Train Accuracy: 46.44\n",
            "Epoch: 402 | Loss: 2.6970 | Train Accuracy: 46.30\n",
            "Epoch: 403 | Loss: 2.6968 | Train Accuracy: 46.27\n",
            "Epoch: 404 | Loss: 2.6965 | Train Accuracy: 46.47\n",
            "Epoch: 405 | Loss: 2.6964 | Train Accuracy: 46.44\n",
            "Epoch: 406 | Loss: 2.6961 | Train Accuracy: 46.37\n",
            "Epoch: 407 | Loss: 2.6958 | Train Accuracy: 46.33\n",
            "Epoch: 408 | Loss: 2.6956 | Train Accuracy: 46.44\n",
            "Epoch: 409 | Loss: 2.6954 | Train Accuracy: 46.33\n",
            "Epoch: 410 | Loss: 2.6952 | Train Accuracy: 46.30\n",
            "Epoch: 411 | Loss: 2.6949 | Train Accuracy: 46.13\n",
            "Epoch: 412 | Loss: 2.6946 | Train Accuracy: 46.16\n",
            "Epoch: 413 | Loss: 2.6945 | Train Accuracy: 46.16\n",
            "Epoch: 414 | Loss: 2.6942 | Train Accuracy: 46.16\n",
            "Epoch: 415 | Loss: 2.6941 | Train Accuracy: 46.27\n",
            "Epoch: 416 | Loss: 2.6938 | Train Accuracy: 46.13\n",
            "Epoch: 417 | Loss: 2.6935 | Train Accuracy: 46.30\n",
            "Epoch: 418 | Loss: 2.6934 | Train Accuracy: 46.30\n",
            "Epoch: 419 | Loss: 2.6932 | Train Accuracy: 46.23\n",
            "Epoch: 420 | Loss: 2.6928 | Train Accuracy: 46.20\n",
            "Epoch: 421 | Loss: 2.6927 | Train Accuracy: 46.16\n",
            "Epoch: 422 | Loss: 2.6925 | Train Accuracy: 46.16\n",
            "Epoch: 423 | Loss: 2.6923 | Train Accuracy: 46.13\n",
            "Epoch: 424 | Loss: 2.6921 | Train Accuracy: 46.23\n",
            "Epoch: 425 | Loss: 2.6918 | Train Accuracy: 46.02\n",
            "Epoch: 426 | Loss: 2.6917 | Train Accuracy: 46.09\n",
            "Epoch: 427 | Loss: 2.6914 | Train Accuracy: 46.02\n",
            "Epoch: 428 | Loss: 2.6911 | Train Accuracy: 45.96\n",
            "Epoch: 429 | Loss: 2.6910 | Train Accuracy: 46.02\n",
            "Epoch: 430 | Loss: 2.6908 | Train Accuracy: 46.06\n",
            "Epoch: 431 | Loss: 2.6906 | Train Accuracy: 45.92\n",
            "Epoch: 432 | Loss: 2.6904 | Train Accuracy: 46.02\n",
            "Epoch: 433 | Loss: 2.6902 | Train Accuracy: 45.89\n",
            "Epoch: 434 | Loss: 2.6900 | Train Accuracy: 45.85\n",
            "Epoch: 435 | Loss: 2.6898 | Train Accuracy: 45.99\n",
            "Epoch: 436 | Loss: 2.6896 | Train Accuracy: 45.89\n",
            "Epoch: 437 | Loss: 2.6894 | Train Accuracy: 46.09\n",
            "Epoch: 438 | Loss: 2.6892 | Train Accuracy: 46.02\n",
            "Epoch: 439 | Loss: 2.6888 | Train Accuracy: 45.85\n",
            "Epoch: 440 | Loss: 2.6888 | Train Accuracy: 46.02\n",
            "Epoch: 441 | Loss: 2.6886 | Train Accuracy: 45.82\n",
            "Epoch: 442 | Loss: 2.6883 | Train Accuracy: 45.96\n",
            "Epoch: 443 | Loss: 2.6881 | Train Accuracy: 45.99\n",
            "Epoch: 444 | Loss: 2.6879 | Train Accuracy: 45.89\n",
            "Epoch: 445 | Loss: 2.6877 | Train Accuracy: 45.89\n",
            "Epoch: 446 | Loss: 2.6875 | Train Accuracy: 45.89\n",
            "Epoch: 447 | Loss: 2.6873 | Train Accuracy: 45.75\n",
            "Epoch: 448 | Loss: 2.6872 | Train Accuracy: 45.99\n",
            "Epoch: 449 | Loss: 2.6870 | Train Accuracy: 45.99\n",
            "Epoch: 450 | Loss: 2.6868 | Train Accuracy: 45.82\n",
            "Epoch: 451 | Loss: 2.6865 | Train Accuracy: 45.68\n",
            "Epoch: 452 | Loss: 2.6864 | Train Accuracy: 45.85\n",
            "Epoch: 453 | Loss: 2.6862 | Train Accuracy: 46.02\n",
            "Epoch: 454 | Loss: 2.6859 | Train Accuracy: 46.02\n",
            "Epoch: 455 | Loss: 2.6858 | Train Accuracy: 45.96\n",
            "Epoch: 456 | Loss: 2.6857 | Train Accuracy: 46.02\n",
            "Epoch: 457 | Loss: 2.6854 | Train Accuracy: 46.02\n",
            "Epoch: 458 | Loss: 2.6851 | Train Accuracy: 45.99\n",
            "Epoch: 459 | Loss: 2.6849 | Train Accuracy: 45.99\n",
            "Epoch: 460 | Loss: 2.6849 | Train Accuracy: 45.92\n",
            "Epoch: 461 | Loss: 2.6846 | Train Accuracy: 45.96\n",
            "Epoch: 462 | Loss: 2.6844 | Train Accuracy: 45.99\n",
            "Epoch: 463 | Loss: 2.6843 | Train Accuracy: 45.89\n",
            "Epoch: 464 | Loss: 2.6841 | Train Accuracy: 45.96\n",
            "Epoch: 465 | Loss: 2.6839 | Train Accuracy: 45.99\n",
            "Epoch: 466 | Loss: 2.6836 | Train Accuracy: 45.96\n",
            "Epoch: 467 | Loss: 2.6837 | Train Accuracy: 45.96\n",
            "Epoch: 468 | Loss: 2.6834 | Train Accuracy: 45.89\n",
            "Epoch: 469 | Loss: 2.6832 | Train Accuracy: 45.89\n",
            "Epoch: 470 | Loss: 2.6830 | Train Accuracy: 45.78\n",
            "Epoch: 471 | Loss: 2.6828 | Train Accuracy: 45.85\n",
            "Epoch: 472 | Loss: 2.6827 | Train Accuracy: 45.78\n",
            "Epoch: 473 | Loss: 2.6825 | Train Accuracy: 45.85\n",
            "Epoch: 474 | Loss: 2.6823 | Train Accuracy: 45.82\n",
            "Epoch: 475 | Loss: 2.6823 | Train Accuracy: 45.89\n",
            "Epoch: 476 | Loss: 2.6820 | Train Accuracy: 45.89\n",
            "Epoch: 477 | Loss: 2.6818 | Train Accuracy: 45.99\n",
            "Epoch: 478 | Loss: 2.6816 | Train Accuracy: 45.78\n",
            "Epoch: 479 | Loss: 2.6814 | Train Accuracy: 45.82\n",
            "Epoch: 480 | Loss: 2.6813 | Train Accuracy: 45.85\n",
            "Epoch: 481 | Loss: 2.6809 | Train Accuracy: 45.65\n",
            "Epoch: 482 | Loss: 2.6809 | Train Accuracy: 45.89\n",
            "Epoch: 483 | Loss: 2.6806 | Train Accuracy: 45.78\n",
            "Epoch: 484 | Loss: 2.6806 | Train Accuracy: 45.85\n",
            "Epoch: 485 | Loss: 2.6803 | Train Accuracy: 45.75\n",
            "Epoch: 486 | Loss: 2.6801 | Train Accuracy: 45.82\n",
            "Epoch: 487 | Loss: 2.6801 | Train Accuracy: 45.85\n",
            "Epoch: 488 | Loss: 2.6798 | Train Accuracy: 45.68\n",
            "Epoch: 489 | Loss: 2.6797 | Train Accuracy: 45.71\n",
            "Epoch: 490 | Loss: 2.6796 | Train Accuracy: 45.85\n",
            "Epoch: 491 | Loss: 2.6794 | Train Accuracy: 45.82\n",
            "Epoch: 492 | Loss: 2.6792 | Train Accuracy: 45.85\n",
            "Epoch: 493 | Loss: 2.6791 | Train Accuracy: 45.75\n",
            "Epoch: 494 | Loss: 2.6790 | Train Accuracy: 45.82\n",
            "Epoch: 495 | Loss: 2.6786 | Train Accuracy: 45.82\n",
            "Epoch: 496 | Loss: 2.6786 | Train Accuracy: 45.92\n",
            "Epoch: 497 | Loss: 2.6784 | Train Accuracy: 45.82\n",
            "Epoch: 498 | Loss: 2.6782 | Train Accuracy: 45.75\n",
            "Epoch: 499 | Loss: 2.6780 | Train Accuracy: 45.85\n",
            "Epoch: 500 | Loss: 2.6780 | Train Accuracy: 45.85\n"
          ]
        }
      ]
    },
    {
      "cell_type": "markdown",
      "source": [
        "#**Question-2**"
      ],
      "metadata": {
        "id": "4XIVLovHlAgh"
      }
    },
    {
      "cell_type": "markdown",
      "source": [
        "###You have been given a dataset here. It consists of different characteristics of dry beans (consider only: area, perimeter, axes lengths, eccentricity, roundness, aspect ratio, and convex area - 7 features). You need to perform classification into different varieties (Cali, Bombay, Barbunya, etc.). For this classification, you need to use a multi-layer perceptron."
      ],
      "metadata": {
        "id": "U5DlpN-m-idO"
      }
    },
    {
      "cell_type": "markdown",
      "source": [
        "##**a.** Preprocess & visualize the data. Create train, val, and test splits but take into consideration the class distribution\n",
        "####(Hint: Look up stratified splits)."
      ],
      "metadata": {
        "id": "lnEAnN7ylh3Z"
      }
    },
    {
      "cell_type": "code",
      "source": [
        "dryBeanDataset = pd.read_excel('/content/drive/MyDrive/Colab Notebooks/DataSet/LAB-7/DryBeanDataset/Dry_Bean_Dataset.xlsx')\n",
        "dryBeanDataset"
      ],
      "metadata": {
        "colab": {
          "base_uri": "https://localhost:8080/",
          "height": 487
        },
        "id": "EEwkn-pU_Mfd",
        "outputId": "4f47ffa7-8d8a-40b7-a7f8-8d0f59696a93"
      },
      "execution_count": null,
      "outputs": [
        {
          "output_type": "execute_result",
          "data": {
            "text/plain": [
              "        Area  Perimeter  MajorAxisLength  MinorAxisLength  AspectRation  \\\n",
              "0      28395    610.291       208.178117       173.888747      1.197191   \n",
              "1      28734    638.018       200.524796       182.734419      1.097356   \n",
              "2      29380    624.110       212.826130       175.931143      1.209713   \n",
              "3      30008    645.884       210.557999       182.516516      1.153638   \n",
              "4      30140    620.134       201.847882       190.279279      1.060798   \n",
              "...      ...        ...              ...              ...           ...   \n",
              "13606  42097    759.696       288.721612       185.944705      1.552728   \n",
              "13607  42101    757.499       281.576392       190.713136      1.476439   \n",
              "13608  42139    759.321       281.539928       191.187979      1.472582   \n",
              "13609  42147    763.779       283.382636       190.275731      1.489326   \n",
              "13610  42159    772.237       295.142741       182.204716      1.619841   \n",
              "\n",
              "       Eccentricity  ConvexArea  EquivDiameter    Extent  Solidity  roundness  \\\n",
              "0          0.549812       28715     190.141097  0.763923  0.988856   0.958027   \n",
              "1          0.411785       29172     191.272750  0.783968  0.984986   0.887034   \n",
              "2          0.562727       29690     193.410904  0.778113  0.989559   0.947849   \n",
              "3          0.498616       30724     195.467062  0.782681  0.976696   0.903936   \n",
              "4          0.333680       30417     195.896503  0.773098  0.990893   0.984877   \n",
              "...             ...         ...            ...       ...       ...        ...   \n",
              "13606      0.765002       42508     231.515799  0.714574  0.990331   0.916603   \n",
              "13607      0.735702       42494     231.526798  0.799943  0.990752   0.922015   \n",
              "13608      0.734065       42569     231.631261  0.729932  0.989899   0.918424   \n",
              "13609      0.741055       42667     231.653248  0.705389  0.987813   0.907906   \n",
              "13610      0.786693       42600     231.686223  0.788962  0.989648   0.888380   \n",
              "\n",
              "       Compactness  ShapeFactor1  ShapeFactor2  ShapeFactor3  ShapeFactor4  \\\n",
              "0         0.913358      0.007332      0.003147      0.834222      0.998724   \n",
              "1         0.953861      0.006979      0.003564      0.909851      0.998430   \n",
              "2         0.908774      0.007244      0.003048      0.825871      0.999066   \n",
              "3         0.928329      0.007017      0.003215      0.861794      0.994199   \n",
              "4         0.970516      0.006697      0.003665      0.941900      0.999166   \n",
              "...            ...           ...           ...           ...           ...   \n",
              "13606     0.801865      0.006858      0.001749      0.642988      0.998385   \n",
              "13607     0.822252      0.006688      0.001886      0.676099      0.998219   \n",
              "13608     0.822730      0.006681      0.001888      0.676884      0.996767   \n",
              "13609     0.817457      0.006724      0.001852      0.668237      0.995222   \n",
              "13610     0.784997      0.007001      0.001640      0.616221      0.998180   \n",
              "\n",
              "          Class  \n",
              "0         SEKER  \n",
              "1         SEKER  \n",
              "2         SEKER  \n",
              "3         SEKER  \n",
              "4         SEKER  \n",
              "...         ...  \n",
              "13606  DERMASON  \n",
              "13607  DERMASON  \n",
              "13608  DERMASON  \n",
              "13609  DERMASON  \n",
              "13610  DERMASON  \n",
              "\n",
              "[13611 rows x 17 columns]"
            ],
            "text/html": [
              "\n",
              "  <div id=\"df-e9b41c04-9e4a-4e85-be0a-42b27d784ff8\">\n",
              "    <div class=\"colab-df-container\">\n",
              "      <div>\n",
              "<style scoped>\n",
              "    .dataframe tbody tr th:only-of-type {\n",
              "        vertical-align: middle;\n",
              "    }\n",
              "\n",
              "    .dataframe tbody tr th {\n",
              "        vertical-align: top;\n",
              "    }\n",
              "\n",
              "    .dataframe thead th {\n",
              "        text-align: right;\n",
              "    }\n",
              "</style>\n",
              "<table border=\"1\" class=\"dataframe\">\n",
              "  <thead>\n",
              "    <tr style=\"text-align: right;\">\n",
              "      <th></th>\n",
              "      <th>Area</th>\n",
              "      <th>Perimeter</th>\n",
              "      <th>MajorAxisLength</th>\n",
              "      <th>MinorAxisLength</th>\n",
              "      <th>AspectRation</th>\n",
              "      <th>Eccentricity</th>\n",
              "      <th>ConvexArea</th>\n",
              "      <th>EquivDiameter</th>\n",
              "      <th>Extent</th>\n",
              "      <th>Solidity</th>\n",
              "      <th>roundness</th>\n",
              "      <th>Compactness</th>\n",
              "      <th>ShapeFactor1</th>\n",
              "      <th>ShapeFactor2</th>\n",
              "      <th>ShapeFactor3</th>\n",
              "      <th>ShapeFactor4</th>\n",
              "      <th>Class</th>\n",
              "    </tr>\n",
              "  </thead>\n",
              "  <tbody>\n",
              "    <tr>\n",
              "      <th>0</th>\n",
              "      <td>28395</td>\n",
              "      <td>610.291</td>\n",
              "      <td>208.178117</td>\n",
              "      <td>173.888747</td>\n",
              "      <td>1.197191</td>\n",
              "      <td>0.549812</td>\n",
              "      <td>28715</td>\n",
              "      <td>190.141097</td>\n",
              "      <td>0.763923</td>\n",
              "      <td>0.988856</td>\n",
              "      <td>0.958027</td>\n",
              "      <td>0.913358</td>\n",
              "      <td>0.007332</td>\n",
              "      <td>0.003147</td>\n",
              "      <td>0.834222</td>\n",
              "      <td>0.998724</td>\n",
              "      <td>SEKER</td>\n",
              "    </tr>\n",
              "    <tr>\n",
              "      <th>1</th>\n",
              "      <td>28734</td>\n",
              "      <td>638.018</td>\n",
              "      <td>200.524796</td>\n",
              "      <td>182.734419</td>\n",
              "      <td>1.097356</td>\n",
              "      <td>0.411785</td>\n",
              "      <td>29172</td>\n",
              "      <td>191.272750</td>\n",
              "      <td>0.783968</td>\n",
              "      <td>0.984986</td>\n",
              "      <td>0.887034</td>\n",
              "      <td>0.953861</td>\n",
              "      <td>0.006979</td>\n",
              "      <td>0.003564</td>\n",
              "      <td>0.909851</td>\n",
              "      <td>0.998430</td>\n",
              "      <td>SEKER</td>\n",
              "    </tr>\n",
              "    <tr>\n",
              "      <th>2</th>\n",
              "      <td>29380</td>\n",
              "      <td>624.110</td>\n",
              "      <td>212.826130</td>\n",
              "      <td>175.931143</td>\n",
              "      <td>1.209713</td>\n",
              "      <td>0.562727</td>\n",
              "      <td>29690</td>\n",
              "      <td>193.410904</td>\n",
              "      <td>0.778113</td>\n",
              "      <td>0.989559</td>\n",
              "      <td>0.947849</td>\n",
              "      <td>0.908774</td>\n",
              "      <td>0.007244</td>\n",
              "      <td>0.003048</td>\n",
              "      <td>0.825871</td>\n",
              "      <td>0.999066</td>\n",
              "      <td>SEKER</td>\n",
              "    </tr>\n",
              "    <tr>\n",
              "      <th>3</th>\n",
              "      <td>30008</td>\n",
              "      <td>645.884</td>\n",
              "      <td>210.557999</td>\n",
              "      <td>182.516516</td>\n",
              "      <td>1.153638</td>\n",
              "      <td>0.498616</td>\n",
              "      <td>30724</td>\n",
              "      <td>195.467062</td>\n",
              "      <td>0.782681</td>\n",
              "      <td>0.976696</td>\n",
              "      <td>0.903936</td>\n",
              "      <td>0.928329</td>\n",
              "      <td>0.007017</td>\n",
              "      <td>0.003215</td>\n",
              "      <td>0.861794</td>\n",
              "      <td>0.994199</td>\n",
              "      <td>SEKER</td>\n",
              "    </tr>\n",
              "    <tr>\n",
              "      <th>4</th>\n",
              "      <td>30140</td>\n",
              "      <td>620.134</td>\n",
              "      <td>201.847882</td>\n",
              "      <td>190.279279</td>\n",
              "      <td>1.060798</td>\n",
              "      <td>0.333680</td>\n",
              "      <td>30417</td>\n",
              "      <td>195.896503</td>\n",
              "      <td>0.773098</td>\n",
              "      <td>0.990893</td>\n",
              "      <td>0.984877</td>\n",
              "      <td>0.970516</td>\n",
              "      <td>0.006697</td>\n",
              "      <td>0.003665</td>\n",
              "      <td>0.941900</td>\n",
              "      <td>0.999166</td>\n",
              "      <td>SEKER</td>\n",
              "    </tr>\n",
              "    <tr>\n",
              "      <th>...</th>\n",
              "      <td>...</td>\n",
              "      <td>...</td>\n",
              "      <td>...</td>\n",
              "      <td>...</td>\n",
              "      <td>...</td>\n",
              "      <td>...</td>\n",
              "      <td>...</td>\n",
              "      <td>...</td>\n",
              "      <td>...</td>\n",
              "      <td>...</td>\n",
              "      <td>...</td>\n",
              "      <td>...</td>\n",
              "      <td>...</td>\n",
              "      <td>...</td>\n",
              "      <td>...</td>\n",
              "      <td>...</td>\n",
              "      <td>...</td>\n",
              "    </tr>\n",
              "    <tr>\n",
              "      <th>13606</th>\n",
              "      <td>42097</td>\n",
              "      <td>759.696</td>\n",
              "      <td>288.721612</td>\n",
              "      <td>185.944705</td>\n",
              "      <td>1.552728</td>\n",
              "      <td>0.765002</td>\n",
              "      <td>42508</td>\n",
              "      <td>231.515799</td>\n",
              "      <td>0.714574</td>\n",
              "      <td>0.990331</td>\n",
              "      <td>0.916603</td>\n",
              "      <td>0.801865</td>\n",
              "      <td>0.006858</td>\n",
              "      <td>0.001749</td>\n",
              "      <td>0.642988</td>\n",
              "      <td>0.998385</td>\n",
              "      <td>DERMASON</td>\n",
              "    </tr>\n",
              "    <tr>\n",
              "      <th>13607</th>\n",
              "      <td>42101</td>\n",
              "      <td>757.499</td>\n",
              "      <td>281.576392</td>\n",
              "      <td>190.713136</td>\n",
              "      <td>1.476439</td>\n",
              "      <td>0.735702</td>\n",
              "      <td>42494</td>\n",
              "      <td>231.526798</td>\n",
              "      <td>0.799943</td>\n",
              "      <td>0.990752</td>\n",
              "      <td>0.922015</td>\n",
              "      <td>0.822252</td>\n",
              "      <td>0.006688</td>\n",
              "      <td>0.001886</td>\n",
              "      <td>0.676099</td>\n",
              "      <td>0.998219</td>\n",
              "      <td>DERMASON</td>\n",
              "    </tr>\n",
              "    <tr>\n",
              "      <th>13608</th>\n",
              "      <td>42139</td>\n",
              "      <td>759.321</td>\n",
              "      <td>281.539928</td>\n",
              "      <td>191.187979</td>\n",
              "      <td>1.472582</td>\n",
              "      <td>0.734065</td>\n",
              "      <td>42569</td>\n",
              "      <td>231.631261</td>\n",
              "      <td>0.729932</td>\n",
              "      <td>0.989899</td>\n",
              "      <td>0.918424</td>\n",
              "      <td>0.822730</td>\n",
              "      <td>0.006681</td>\n",
              "      <td>0.001888</td>\n",
              "      <td>0.676884</td>\n",
              "      <td>0.996767</td>\n",
              "      <td>DERMASON</td>\n",
              "    </tr>\n",
              "    <tr>\n",
              "      <th>13609</th>\n",
              "      <td>42147</td>\n",
              "      <td>763.779</td>\n",
              "      <td>283.382636</td>\n",
              "      <td>190.275731</td>\n",
              "      <td>1.489326</td>\n",
              "      <td>0.741055</td>\n",
              "      <td>42667</td>\n",
              "      <td>231.653248</td>\n",
              "      <td>0.705389</td>\n",
              "      <td>0.987813</td>\n",
              "      <td>0.907906</td>\n",
              "      <td>0.817457</td>\n",
              "      <td>0.006724</td>\n",
              "      <td>0.001852</td>\n",
              "      <td>0.668237</td>\n",
              "      <td>0.995222</td>\n",
              "      <td>DERMASON</td>\n",
              "    </tr>\n",
              "    <tr>\n",
              "      <th>13610</th>\n",
              "      <td>42159</td>\n",
              "      <td>772.237</td>\n",
              "      <td>295.142741</td>\n",
              "      <td>182.204716</td>\n",
              "      <td>1.619841</td>\n",
              "      <td>0.786693</td>\n",
              "      <td>42600</td>\n",
              "      <td>231.686223</td>\n",
              "      <td>0.788962</td>\n",
              "      <td>0.989648</td>\n",
              "      <td>0.888380</td>\n",
              "      <td>0.784997</td>\n",
              "      <td>0.007001</td>\n",
              "      <td>0.001640</td>\n",
              "      <td>0.616221</td>\n",
              "      <td>0.998180</td>\n",
              "      <td>DERMASON</td>\n",
              "    </tr>\n",
              "  </tbody>\n",
              "</table>\n",
              "<p>13611 rows × 17 columns</p>\n",
              "</div>\n",
              "      <button class=\"colab-df-convert\" onclick=\"convertToInteractive('df-e9b41c04-9e4a-4e85-be0a-42b27d784ff8')\"\n",
              "              title=\"Convert this dataframe to an interactive table.\"\n",
              "              style=\"display:none;\">\n",
              "        \n",
              "  <svg xmlns=\"http://www.w3.org/2000/svg\" height=\"24px\"viewBox=\"0 0 24 24\"\n",
              "       width=\"24px\">\n",
              "    <path d=\"M0 0h24v24H0V0z\" fill=\"none\"/>\n",
              "    <path d=\"M18.56 5.44l.94 2.06.94-2.06 2.06-.94-2.06-.94-.94-2.06-.94 2.06-2.06.94zm-11 1L8.5 8.5l.94-2.06 2.06-.94-2.06-.94L8.5 2.5l-.94 2.06-2.06.94zm10 10l.94 2.06.94-2.06 2.06-.94-2.06-.94-.94-2.06-.94 2.06-2.06.94z\"/><path d=\"M17.41 7.96l-1.37-1.37c-.4-.4-.92-.59-1.43-.59-.52 0-1.04.2-1.43.59L10.3 9.45l-7.72 7.72c-.78.78-.78 2.05 0 2.83L4 21.41c.39.39.9.59 1.41.59.51 0 1.02-.2 1.41-.59l7.78-7.78 2.81-2.81c.8-.78.8-2.07 0-2.86zM5.41 20L4 18.59l7.72-7.72 1.47 1.35L5.41 20z\"/>\n",
              "  </svg>\n",
              "      </button>\n",
              "      \n",
              "  <style>\n",
              "    .colab-df-container {\n",
              "      display:flex;\n",
              "      flex-wrap:wrap;\n",
              "      gap: 12px;\n",
              "    }\n",
              "\n",
              "    .colab-df-convert {\n",
              "      background-color: #E8F0FE;\n",
              "      border: none;\n",
              "      border-radius: 50%;\n",
              "      cursor: pointer;\n",
              "      display: none;\n",
              "      fill: #1967D2;\n",
              "      height: 32px;\n",
              "      padding: 0 0 0 0;\n",
              "      width: 32px;\n",
              "    }\n",
              "\n",
              "    .colab-df-convert:hover {\n",
              "      background-color: #E2EBFA;\n",
              "      box-shadow: 0px 1px 2px rgba(60, 64, 67, 0.3), 0px 1px 3px 1px rgba(60, 64, 67, 0.15);\n",
              "      fill: #174EA6;\n",
              "    }\n",
              "\n",
              "    [theme=dark] .colab-df-convert {\n",
              "      background-color: #3B4455;\n",
              "      fill: #D2E3FC;\n",
              "    }\n",
              "\n",
              "    [theme=dark] .colab-df-convert:hover {\n",
              "      background-color: #434B5C;\n",
              "      box-shadow: 0px 1px 3px 1px rgba(0, 0, 0, 0.15);\n",
              "      filter: drop-shadow(0px 1px 2px rgba(0, 0, 0, 0.3));\n",
              "      fill: #FFFFFF;\n",
              "    }\n",
              "  </style>\n",
              "\n",
              "      <script>\n",
              "        const buttonEl =\n",
              "          document.querySelector('#df-e9b41c04-9e4a-4e85-be0a-42b27d784ff8 button.colab-df-convert');\n",
              "        buttonEl.style.display =\n",
              "          google.colab.kernel.accessAllowed ? 'block' : 'none';\n",
              "\n",
              "        async function convertToInteractive(key) {\n",
              "          const element = document.querySelector('#df-e9b41c04-9e4a-4e85-be0a-42b27d784ff8');\n",
              "          const dataTable =\n",
              "            await google.colab.kernel.invokeFunction('convertToInteractive',\n",
              "                                                     [key], {});\n",
              "          if (!dataTable) return;\n",
              "\n",
              "          const docLinkHtml = 'Like what you see? Visit the ' +\n",
              "            '<a target=\"_blank\" href=https://colab.research.google.com/notebooks/data_table.ipynb>data table notebook</a>'\n",
              "            + ' to learn more about interactive tables.';\n",
              "          element.innerHTML = '';\n",
              "          dataTable['output_type'] = 'display_data';\n",
              "          await google.colab.output.renderOutput(dataTable, element);\n",
              "          const docLink = document.createElement('div');\n",
              "          docLink.innerHTML = docLinkHtml;\n",
              "          element.appendChild(docLink);\n",
              "        }\n",
              "      </script>\n",
              "    </div>\n",
              "  </div>\n",
              "  "
            ]
          },
          "metadata": {},
          "execution_count": 2
        }
      ]
    },
    {
      "cell_type": "code",
      "source": [
        "dryBeanDataset.isnull().sum()"
      ],
      "metadata": {
        "colab": {
          "base_uri": "https://localhost:8080/"
        },
        "id": "MVAlH8HLuoO2",
        "outputId": "72b14504-5298-4b62-eccf-d4d86a98254e"
      },
      "execution_count": null,
      "outputs": [
        {
          "output_type": "execute_result",
          "data": {
            "text/plain": [
              "Area               0\n",
              "Perimeter          0\n",
              "MajorAxisLength    0\n",
              "MinorAxisLength    0\n",
              "AspectRation       0\n",
              "Eccentricity       0\n",
              "ConvexArea         0\n",
              "EquivDiameter      0\n",
              "Extent             0\n",
              "Solidity           0\n",
              "roundness          0\n",
              "Compactness        0\n",
              "ShapeFactor1       0\n",
              "ShapeFactor2       0\n",
              "ShapeFactor3       0\n",
              "ShapeFactor4       0\n",
              "Class              0\n",
              "dtype: int64"
            ]
          },
          "metadata": {},
          "execution_count": 3
        }
      ]
    },
    {
      "cell_type": "code",
      "source": [
        "cols = dryBeanDataset.drop(columns=['Class']).columns\n",
        "\n",
        "figure, ax = plt.subplots(4, 4, figsize=(15, 12))\n",
        "for variable, subplot in zip(cols, ax.flatten()):\n",
        "    g=sns.histplot(dryBeanDataset[variable], bins=35, kde=True, ax=subplot)\n",
        "    g.lines[0].set_color('crimson')\n",
        "    g.axvline(x=dryBeanDataset[variable].mean(), color='g', label='Mean', linestyle='--', linewidth=1.95)\n",
        "plt.tight_layout()"
      ],
      "metadata": {
        "colab": {
          "base_uri": "https://localhost:8080/",
          "height": 874
        },
        "id": "4vkh5V6MRwf_",
        "outputId": "e0077c06-a68e-4c96-b55f-6b9afeeb0d9e"
      },
      "execution_count": null,
      "outputs": [
        {
          "output_type": "display_data",
          "data": {
            "text/plain": [
              "<Figure size 1080x864 with 16 Axes>"
            ],
            "image/png": "[encoded data removed]"
          },
          "metadata": {
            "needs_background": "light"
          }
        }
      ]
    },
    {
      "cell_type": "code",
      "source": [
        "plt.figure(figsize=(12,12))\n",
        "sns.heatmap(dryBeanDataset.corr(\"pearson\"), vmin=-1, vmax=1, cmap='coolwarm', annot=True, square=True)"
      ],
      "metadata": {
        "colab": {
          "base_uri": "https://localhost:8080/",
          "height": 737
        },
        "id": "Q-EqVNbXRWlc",
        "outputId": "582bc5ed-b7db-4c05-f1a8-dba0c8efd0b7"
      },
      "execution_count": null,
      "outputs": [
        {
          "output_type": "execute_result",
          "data": {
            "text/plain": [
              "<matplotlib.axes._subplots.AxesSubplot at 0x7fe30a5af9d0>"
            ]
          },
          "metadata": {},
          "execution_count": 6
        },
        {
          "output_type": "display_data",
          "data": {
            "text/plain": [
              "<Figure size 864x864 with 2 Axes>"
            ],
            "image/png": "[encoded data removed]"
          },
          "metadata": {
            "needs_background": "light"
          }
        }
      ]
    },
    {
      "cell_type": "code",
      "source": [
        "dryBeanDataset.info()"
      ],
      "metadata": {
        "colab": {
          "base_uri": "https://localhost:8080/"
        },
        "id": "hrzo5YUxusn4",
        "outputId": "6fcd853f-f1b7-4b24-c979-da174d6c8ec6"
      },
      "execution_count": null,
      "outputs": [
        {
          "output_type": "stream",
          "name": "stdout",
          "text": [
            "<class 'pandas.core.frame.DataFrame'>\n",
            "RangeIndex: 13611 entries, 0 to 13610\n",
            "Data columns (total 17 columns):\n",
            " #   Column           Non-Null Count  Dtype  \n",
            "---  ------           --------------  -----  \n",
            " 0   Area             13611 non-null  int64  \n",
            " 1   Perimeter        13611 non-null  float64\n",
            " 2   MajorAxisLength  13611 non-null  float64\n",
            " 3   MinorAxisLength  13611 non-null  float64\n",
            " 4   AspectRation     13611 non-null  float64\n",
            " 5   Eccentricity     13611 non-null  float64\n",
            " 6   ConvexArea       13611 non-null  int64  \n",
            " 7   EquivDiameter    13611 non-null  float64\n",
            " 8   Extent           13611 non-null  float64\n",
            " 9   Solidity         13611 non-null  float64\n",
            " 10  roundness        13611 non-null  float64\n",
            " 11  Compactness      13611 non-null  float64\n",
            " 12  ShapeFactor1     13611 non-null  float64\n",
            " 13  ShapeFactor2     13611 non-null  float64\n",
            " 14  ShapeFactor3     13611 non-null  float64\n",
            " 15  ShapeFactor4     13611 non-null  float64\n",
            " 16  Class            13611 non-null  object \n",
            "dtypes: float64(14), int64(2), object(1)\n",
            "memory usage: 1.8+ MB\n"
          ]
        }
      ]
    },
    {
      "cell_type": "code",
      "source": [
        "Label_Encode = LabelEncoder()\n",
        "dryBeanDataset['Class'] = Label_Encode.fit_transform(dryBeanDataset['Class']) + 1"
      ],
      "metadata": {
        "id": "LxzwlTKEvCS2"
      },
      "execution_count": null,
      "outputs": []
    },
    {
      "cell_type": "code",
      "source": [
        "scaler = StandardScaler()\n",
        "for i in dryBeanDataset.columns:\n",
        "    # Since Class is target function.\n",
        "    if(i == 'Class'):\n",
        "        continue\n",
        "    else:\n",
        "        dryBeanDataset[[i]] = scaler.fit_transform(dryBeanDataset[[i]])\n",
        "dryBeanDataset"
      ],
      "metadata": {
        "colab": {
          "base_uri": "https://localhost:8080/",
          "height": 487
        },
        "id": "UUy5yaLonhte",
        "outputId": "2f7c30b3-b6dd-4674-cee2-916fe0a166f0"
      },
      "execution_count": null,
      "outputs": [
        {
          "output_type": "execute_result",
          "data": {
            "text/plain": [
              "           Area  Perimeter  MajorAxisLength  MinorAxisLength  AspectRation  \\\n",
              "0     -0.840749  -1.143319        -1.306598        -0.631153     -1.565053   \n",
              "1     -0.829188  -1.013924        -1.395911        -0.434445     -1.969784   \n",
              "2     -0.807157  -1.078829        -1.252357        -0.585735     -1.514291   \n",
              "3     -0.785741  -0.977215        -1.278825        -0.439290     -1.741618   \n",
              "4     -0.781239  -1.097384        -1.380471        -0.266663     -2.117993   \n",
              "...         ...        ...              ...              ...           ...   \n",
              "13606 -0.373471  -0.446083        -0.366669        -0.363055     -0.123703   \n",
              "13607 -0.373334  -0.456336        -0.450053        -0.257015     -0.432979   \n",
              "13608 -0.372038  -0.447833        -0.450478        -0.246456     -0.448618   \n",
              "13609 -0.371765  -0.427029        -0.428974        -0.266742     -0.380735   \n",
              "13610 -0.371356  -0.387557        -0.291736        -0.446224      0.148374   \n",
              "\n",
              "       Eccentricity  ConvexArea  EquivDiameter    Extent  Solidity  roundness  \\\n",
              "0         -2.185720   -0.841451      -1.063341  0.289087  0.367613   1.423867   \n",
              "1         -3.686040   -0.826102      -1.044217  0.697477 -0.462907   0.231054   \n",
              "2         -2.045336   -0.808704      -1.008084  0.578195  0.518417   1.252865   \n",
              "3         -2.742211   -0.773975      -0.973337  0.671260 -2.241767   0.515049   \n",
              "4         -4.535028   -0.784286      -0.966080  0.476020  0.804772   1.874992   \n",
              "...             ...         ...            ...       ...       ...        ...   \n",
              "13606      0.153343   -0.378191      -0.364148 -0.716284  0.684173   0.727872   \n",
              "13607     -0.165141   -0.378662      -0.363962  1.022933  0.774384   0.818807   \n",
              "13608     -0.182940   -0.376143      -0.362197 -0.403392  0.591370   0.758468   \n",
              "13609     -0.106960   -0.372851      -0.361825 -0.903414  0.143717   0.581753   \n",
              "13610      0.389116   -0.375101      -0.361268  0.799227  0.537539   0.253681   \n",
              "\n",
              "       Compactness  ShapeFactor1  ShapeFactor2  ShapeFactor3  ShapeFactor4  \\\n",
              "0         1.839116      0.680786      2.402173      1.925723      0.838371   \n",
              "1         2.495449      0.367967      3.100893      2.689702      0.771138   \n",
              "2         1.764843      0.603129      2.235091      1.841356      0.916755   \n",
              "3         2.081715      0.401718      2.515075      2.204250     -0.197985   \n",
              "4         2.765330      0.118268      3.270983      3.013462      0.939640   \n",
              "...            ...           ...           ...           ...           ...   \n",
              "13606     0.032433      0.261425      0.055630     -0.006086      0.760813   \n",
              "13607     0.362794      0.110384      0.285117      0.328393      0.722659   \n",
              "13608     0.370533      0.104269      0.289204      0.336328      0.390251   \n",
              "13609     0.285098      0.141906      0.228375      0.248973      0.036440   \n",
              "13610    -0.240904      0.387512     -0.127776     -0.276481      0.713719   \n",
              "\n",
              "       Class  \n",
              "0          6  \n",
              "1          6  \n",
              "2          6  \n",
              "3          6  \n",
              "4          6  \n",
              "...      ...  \n",
              "13606      4  \n",
              "13607      4  \n",
              "13608      4  \n",
              "13609      4  \n",
              "13610      4  \n",
              "\n",
              "[13611 rows x 17 columns]"
            ],
            "text/html": [
              "\n",
              "  <div id=\"df-08d9be1a-9de5-4fc5-840e-78e8caeab1bb\">\n",
              "    <div class=\"colab-df-container\">\n",
              "      <div>\n",
              "<style scoped>\n",
              "    .dataframe tbody tr th:only-of-type {\n",
              "        vertical-align: middle;\n",
              "    }\n",
              "\n",
              "    .dataframe tbody tr th {\n",
              "        vertical-align: top;\n",
              "    }\n",
              "\n",
              "    .dataframe thead th {\n",
              "        text-align: right;\n",
              "    }\n",
              "</style>\n",
              "<table border=\"1\" class=\"dataframe\">\n",
              "  <thead>\n",
              "    <tr style=\"text-align: right;\">\n",
              "      <th></th>\n",
              "      <th>Area</th>\n",
              "      <th>Perimeter</th>\n",
              "      <th>MajorAxisLength</th>\n",
              "      <th>MinorAxisLength</th>\n",
              "      <th>AspectRation</th>\n",
              "      <th>Eccentricity</th>\n",
              "      <th>ConvexArea</th>\n",
              "      <th>EquivDiameter</th>\n",
              "      <th>Extent</th>\n",
              "      <th>Solidity</th>\n",
              "      <th>roundness</th>\n",
              "      <th>Compactness</th>\n",
              "      <th>ShapeFactor1</th>\n",
              "      <th>ShapeFactor2</th>\n",
              "      <th>ShapeFactor3</th>\n",
              "      <th>ShapeFactor4</th>\n",
              "      <th>Class</th>\n",
              "    </tr>\n",
              "  </thead>\n",
              "  <tbody>\n",
              "    <tr>\n",
              "      <th>0</th>\n",
              "      <td>-0.840749</td>\n",
              "      <td>-1.143319</td>\n",
              "      <td>-1.306598</td>\n",
              "      <td>-0.631153</td>\n",
              "      <td>-1.565053</td>\n",
              "      <td>-2.185720</td>\n",
              "      <td>-0.841451</td>\n",
              "      <td>-1.063341</td>\n",
              "      <td>0.289087</td>\n",
              "      <td>0.367613</td>\n",
              "      <td>1.423867</td>\n",
              "      <td>1.839116</td>\n",
              "      <td>0.680786</td>\n",
              "      <td>2.402173</td>\n",
              "      <td>1.925723</td>\n",
              "      <td>0.838371</td>\n",
              "      <td>6</td>\n",
              "    </tr>\n",
              "    <tr>\n",
              "      <th>1</th>\n",
              "      <td>-0.829188</td>\n",
              "      <td>-1.013924</td>\n",
              "      <td>-1.395911</td>\n",
              "      <td>-0.434445</td>\n",
              "      <td>-1.969784</td>\n",
              "      <td>-3.686040</td>\n",
              "      <td>-0.826102</td>\n",
              "      <td>-1.044217</td>\n",
              "      <td>0.697477</td>\n",
              "      <td>-0.462907</td>\n",
              "      <td>0.231054</td>\n",
              "      <td>2.495449</td>\n",
              "      <td>0.367967</td>\n",
              "      <td>3.100893</td>\n",
              "      <td>2.689702</td>\n",
              "      <td>0.771138</td>\n",
              "      <td>6</td>\n",
              "    </tr>\n",
              "    <tr>\n",
              "      <th>2</th>\n",
              "      <td>-0.807157</td>\n",
              "      <td>-1.078829</td>\n",
              "      <td>-1.252357</td>\n",
              "      <td>-0.585735</td>\n",
              "      <td>-1.514291</td>\n",
              "      <td>-2.045336</td>\n",
              "      <td>-0.808704</td>\n",
              "      <td>-1.008084</td>\n",
              "      <td>0.578195</td>\n",
              "      <td>0.518417</td>\n",
              "      <td>1.252865</td>\n",
              "      <td>1.764843</td>\n",
              "      <td>0.603129</td>\n",
              "      <td>2.235091</td>\n",
              "      <td>1.841356</td>\n",
              "      <td>0.916755</td>\n",
              "      <td>6</td>\n",
              "    </tr>\n",
              "    <tr>\n",
              "      <th>3</th>\n",
              "      <td>-0.785741</td>\n",
              "      <td>-0.977215</td>\n",
              "      <td>-1.278825</td>\n",
              "      <td>-0.439290</td>\n",
              "      <td>-1.741618</td>\n",
              "      <td>-2.742211</td>\n",
              "      <td>-0.773975</td>\n",
              "      <td>-0.973337</td>\n",
              "      <td>0.671260</td>\n",
              "      <td>-2.241767</td>\n",
              "      <td>0.515049</td>\n",
              "      <td>2.081715</td>\n",
              "      <td>0.401718</td>\n",
              "      <td>2.515075</td>\n",
              "      <td>2.204250</td>\n",
              "      <td>-0.197985</td>\n",
              "      <td>6</td>\n",
              "    </tr>\n",
              "    <tr>\n",
              "      <th>4</th>\n",
              "      <td>-0.781239</td>\n",
              "      <td>-1.097384</td>\n",
              "      <td>-1.380471</td>\n",
              "      <td>-0.266663</td>\n",
              "      <td>-2.117993</td>\n",
              "      <td>-4.535028</td>\n",
              "      <td>-0.784286</td>\n",
              "      <td>-0.966080</td>\n",
              "      <td>0.476020</td>\n",
              "      <td>0.804772</td>\n",
              "      <td>1.874992</td>\n",
              "      <td>2.765330</td>\n",
              "      <td>0.118268</td>\n",
              "      <td>3.270983</td>\n",
              "      <td>3.013462</td>\n",
              "      <td>0.939640</td>\n",
              "      <td>6</td>\n",
              "    </tr>\n",
              "    <tr>\n",
              "      <th>...</th>\n",
              "      <td>...</td>\n",
              "      <td>...</td>\n",
              "      <td>...</td>\n",
              "      <td>...</td>\n",
              "      <td>...</td>\n",
              "      <td>...</td>\n",
              "      <td>...</td>\n",
              "      <td>...</td>\n",
              "      <td>...</td>\n",
              "      <td>...</td>\n",
              "      <td>...</td>\n",
              "      <td>...</td>\n",
              "      <td>...</td>\n",
              "      <td>...</td>\n",
              "      <td>...</td>\n",
              "      <td>...</td>\n",
              "      <td>...</td>\n",
              "    </tr>\n",
              "    <tr>\n",
              "      <th>13606</th>\n",
              "      <td>-0.373471</td>\n",
              "      <td>-0.446083</td>\n",
              "      <td>-0.366669</td>\n",
              "      <td>-0.363055</td>\n",
              "      <td>-0.123703</td>\n",
              "      <td>0.153343</td>\n",
              "      <td>-0.378191</td>\n",
              "      <td>-0.364148</td>\n",
              "      <td>-0.716284</td>\n",
              "      <td>0.684173</td>\n",
              "      <td>0.727872</td>\n",
              "      <td>0.032433</td>\n",
              "      <td>0.261425</td>\n",
              "      <td>0.055630</td>\n",
              "      <td>-0.006086</td>\n",
              "      <td>0.760813</td>\n",
              "      <td>4</td>\n",
              "    </tr>\n",
              "    <tr>\n",
              "      <th>13607</th>\n",
              "      <td>-0.373334</td>\n",
              "      <td>-0.456336</td>\n",
              "      <td>-0.450053</td>\n",
              "      <td>-0.257015</td>\n",
              "      <td>-0.432979</td>\n",
              "      <td>-0.165141</td>\n",
              "      <td>-0.378662</td>\n",
              "      <td>-0.363962</td>\n",
              "      <td>1.022933</td>\n",
              "      <td>0.774384</td>\n",
              "      <td>0.818807</td>\n",
              "      <td>0.362794</td>\n",
              "      <td>0.110384</td>\n",
              "      <td>0.285117</td>\n",
              "      <td>0.328393</td>\n",
              "      <td>0.722659</td>\n",
              "      <td>4</td>\n",
              "    </tr>\n",
              "    <tr>\n",
              "      <th>13608</th>\n",
              "      <td>-0.372038</td>\n",
              "      <td>-0.447833</td>\n",
              "      <td>-0.450478</td>\n",
              "      <td>-0.246456</td>\n",
              "      <td>-0.448618</td>\n",
              "      <td>-0.182940</td>\n",
              "      <td>-0.376143</td>\n",
              "      <td>-0.362197</td>\n",
              "      <td>-0.403392</td>\n",
              "      <td>0.591370</td>\n",
              "      <td>0.758468</td>\n",
              "      <td>0.370533</td>\n",
              "      <td>0.104269</td>\n",
              "      <td>0.289204</td>\n",
              "      <td>0.336328</td>\n",
              "      <td>0.390251</td>\n",
              "      <td>4</td>\n",
              "    </tr>\n",
              "    <tr>\n",
              "      <th>13609</th>\n",
              "      <td>-0.371765</td>\n",
              "      <td>-0.427029</td>\n",
              "      <td>-0.428974</td>\n",
              "      <td>-0.266742</td>\n",
              "      <td>-0.380735</td>\n",
              "      <td>-0.106960</td>\n",
              "      <td>-0.372851</td>\n",
              "      <td>-0.361825</td>\n",
              "      <td>-0.903414</td>\n",
              "      <td>0.143717</td>\n",
              "      <td>0.581753</td>\n",
              "      <td>0.285098</td>\n",
              "      <td>0.141906</td>\n",
              "      <td>0.228375</td>\n",
              "      <td>0.248973</td>\n",
              "      <td>0.036440</td>\n",
              "      <td>4</td>\n",
              "    </tr>\n",
              "    <tr>\n",
              "      <th>13610</th>\n",
              "      <td>-0.371356</td>\n",
              "      <td>-0.387557</td>\n",
              "      <td>-0.291736</td>\n",
              "      <td>-0.446224</td>\n",
              "      <td>0.148374</td>\n",
              "      <td>0.389116</td>\n",
              "      <td>-0.375101</td>\n",
              "      <td>-0.361268</td>\n",
              "      <td>0.799227</td>\n",
              "      <td>0.537539</td>\n",
              "      <td>0.253681</td>\n",
              "      <td>-0.240904</td>\n",
              "      <td>0.387512</td>\n",
              "      <td>-0.127776</td>\n",
              "      <td>-0.276481</td>\n",
              "      <td>0.713719</td>\n",
              "      <td>4</td>\n",
              "    </tr>\n",
              "  </tbody>\n",
              "</table>\n",
              "<p>13611 rows × 17 columns</p>\n",
              "</div>\n",
              "      <button class=\"colab-df-convert\" onclick=\"convertToInteractive('df-08d9be1a-9de5-4fc5-840e-78e8caeab1bb')\"\n",
              "              title=\"Convert this dataframe to an interactive table.\"\n",
              "              style=\"display:none;\">\n",
              "        \n",
              "  <svg xmlns=\"http://www.w3.org/2000/svg\" height=\"24px\"viewBox=\"0 0 24 24\"\n",
              "       width=\"24px\">\n",
              "    <path d=\"M0 0h24v24H0V0z\" fill=\"none\"/>\n",
              "    <path d=\"M18.56 5.44l.94 2.06.94-2.06 2.06-.94-2.06-.94-.94-2.06-.94 2.06-2.06.94zm-11 1L8.5 8.5l.94-2.06 2.06-.94-2.06-.94L8.5 2.5l-.94 2.06-2.06.94zm10 10l.94 2.06.94-2.06 2.06-.94-2.06-.94-.94-2.06-.94 2.06-2.06.94z\"/><path d=\"M17.41 7.96l-1.37-1.37c-.4-.4-.92-.59-1.43-.59-.52 0-1.04.2-1.43.59L10.3 9.45l-7.72 7.72c-.78.78-.78 2.05 0 2.83L4 21.41c.39.39.9.59 1.41.59.51 0 1.02-.2 1.41-.59l7.78-7.78 2.81-2.81c.8-.78.8-2.07 0-2.86zM5.41 20L4 18.59l7.72-7.72 1.47 1.35L5.41 20z\"/>\n",
              "  </svg>\n",
              "      </button>\n",
              "      \n",
              "  <style>\n",
              "    .colab-df-container {\n",
              "      display:flex;\n",
              "      flex-wrap:wrap;\n",
              "      gap: 12px;\n",
              "    }\n",
              "\n",
              "    .colab-df-convert {\n",
              "      background-color: #E8F0FE;\n",
              "      border: none;\n",
              "      border-radius: 50%;\n",
              "      cursor: pointer;\n",
              "      display: none;\n",
              "      fill: #1967D2;\n",
              "      height: 32px;\n",
              "      padding: 0 0 0 0;\n",
              "      width: 32px;\n",
              "    }\n",
              "\n",
              "    .colab-df-convert:hover {\n",
              "      background-color: #E2EBFA;\n",
              "      box-shadow: 0px 1px 2px rgba(60, 64, 67, 0.3), 0px 1px 3px 1px rgba(60, 64, 67, 0.15);\n",
              "      fill: #174EA6;\n",
              "    }\n",
              "\n",
              "    [theme=dark] .colab-df-convert {\n",
              "      background-color: #3B4455;\n",
              "      fill: #D2E3FC;\n",
              "    }\n",
              "\n",
              "    [theme=dark] .colab-df-convert:hover {\n",
              "      background-color: #434B5C;\n",
              "      box-shadow: 0px 1px 3px 1px rgba(0, 0, 0, 0.15);\n",
              "      filter: drop-shadow(0px 1px 2px rgba(0, 0, 0, 0.3));\n",
              "      fill: #FFFFFF;\n",
              "    }\n",
              "  </style>\n",
              "\n",
              "      <script>\n",
              "        const buttonEl =\n",
              "          document.querySelector('#df-08d9be1a-9de5-4fc5-840e-78e8caeab1bb button.colab-df-convert');\n",
              "        buttonEl.style.display =\n",
              "          google.colab.kernel.accessAllowed ? 'block' : 'none';\n",
              "\n",
              "        async function convertToInteractive(key) {\n",
              "          const element = document.querySelector('#df-08d9be1a-9de5-4fc5-840e-78e8caeab1bb');\n",
              "          const dataTable =\n",
              "            await google.colab.kernel.invokeFunction('convertToInteractive',\n",
              "                                                     [key], {});\n",
              "          if (!dataTable) return;\n",
              "\n",
              "          const docLinkHtml = 'Like what you see? Visit the ' +\n",
              "            '<a target=\"_blank\" href=https://colab.research.google.com/notebooks/data_table.ipynb>data table notebook</a>'\n",
              "            + ' to learn more about interactive tables.';\n",
              "          element.innerHTML = '';\n",
              "          dataTable['output_type'] = 'display_data';\n",
              "          await google.colab.output.renderOutput(dataTable, element);\n",
              "          const docLink = document.createElement('div');\n",
              "          docLink.innerHTML = docLinkHtml;\n",
              "          element.appendChild(docLink);\n",
              "        }\n",
              "      </script>\n",
              "    </div>\n",
              "  </div>\n",
              "  "
            ]
          },
          "metadata": {},
          "execution_count": 8
        }
      ]
    },
    {
      "cell_type": "code",
      "source": [
        "dryBeanDataset['Class'].unique()"
      ],
      "metadata": {
        "colab": {
          "base_uri": "https://localhost:8080/"
        },
        "id": "PGfOxj8-RhXX",
        "outputId": "0e4ec8a5-1c61-439e-910d-3e40a12fcaf6"
      },
      "execution_count": null,
      "outputs": [
        {
          "output_type": "execute_result",
          "data": {
            "text/plain": [
              "array([6, 1, 2, 3, 5, 7, 4])"
            ]
          },
          "metadata": {},
          "execution_count": 9
        }
      ]
    },
    {
      "cell_type": "code",
      "source": [
        "sns.distplot(dryBeanDataset['Class'])"
      ],
      "metadata": {
        "colab": {
          "base_uri": "https://localhost:8080/",
          "height": 297
        },
        "id": "Y3H5nU4buz5Y",
        "outputId": "11a96ed2-9df6-4508-ebbf-13af8225a022"
      },
      "execution_count": null,
      "outputs": [
        {
          "output_type": "execute_result",
          "data": {
            "text/plain": [
              "<matplotlib.axes._subplots.AxesSubplot at 0x7fe303601190>"
            ]
          },
          "metadata": {},
          "execution_count": 10
        },
        {
          "output_type": "display_data",
          "data": {
            "text/plain": [
              "<Figure size 432x288 with 1 Axes>"
            ],
            "image/png": "[encoded data removed]"
          },
          "metadata": {
            "needs_background": "light"
          }
        }
      ]
    },
    {
      "cell_type": "code",
      "source": [
        "dryBeanDataset.describe()"
      ],
      "metadata": {
        "colab": {
          "base_uri": "https://localhost:8080/",
          "height": 364
        },
        "id": "y0bE3e4IuvDT",
        "outputId": "b022f6c2-9b60-4a72-f65b-787e4e635c74"
      },
      "execution_count": null,
      "outputs": [
        {
          "output_type": "execute_result",
          "data": {
            "text/plain": [
              "               Area     Perimeter  MajorAxisLength  MinorAxisLength  \\\n",
              "count  1.361100e+04  1.361100e+04     1.361100e+04     1.361100e+04   \n",
              "mean  -6.604363e-16 -1.216596e-15     8.703803e-16     4.103445e-16   \n",
              "std    1.000037e+00  1.000037e+00     1.000037e+00     1.000037e+00   \n",
              "min   -1.112719e+00 -1.542583e+00    -1.593407e+00    -1.773645e+00   \n",
              "25%   -5.702102e-01 -7.082260e-01    -7.799910e-01    -5.875797e-01   \n",
              "50%   -2.863377e-01 -2.816033e-01    -2.714228e-01    -2.187975e-01   \n",
              "75%    2.824987e-01  5.690149e-01     6.576317e-01     3.282530e-01   \n",
              "max    6.874044e+00  5.273833e+00     4.886372e+00     5.735751e+00   \n",
              "\n",
              "       AspectRation  Eccentricity    ConvexArea  EquivDiameter        Extent  \\\n",
              "count  1.361100e+04  1.361100e+04  1.361100e+04   1.361100e+04  1.361100e+04   \n",
              "mean  -5.324805e-16 -7.462051e-16 -9.092597e-16  -3.963800e-16 -1.876922e-15   \n",
              "std    1.000037e+00  1.000037e+00  1.000037e+00   1.000037e+00  1.000037e+00   \n",
              "min   -2.263655e+00 -5.782098e+00 -1.111184e+00  -1.551678e+00 -3.960880e+00   \n",
              "25%   -6.118921e-01 -3.800848e-01 -5.727750e-01  -6.420997e-01 -6.335853e-01   \n",
              "50%   -1.302079e-01  1.472404e-01 -2.885152e-01  -2.471687e-01  2.063003e-01   \n",
              "75%    5.021578e-01  6.475228e-01  2.863522e-01   4.458347e-01  7.562196e-01   \n",
              "max    3.434007e+00  1.744901e+00  7.036141e+00   5.345339e+00  2.372678e+00   \n",
              "\n",
              "           Solidity     roundness   Compactness  ShapeFactor1  ShapeFactor2  \\\n",
              "count  1.361100e+04  1.361100e+04  1.361100e+04  1.361100e+04  1.361100e+04   \n",
              "mean  -2.301027e-14  2.380687e-16 -5.287263e-16 -8.734513e-16  7.887938e-16   \n",
              "std    1.000037e+00  1.000037e+00  1.000037e+00  1.000037e+00  1.000037e+00   \n",
              "min   -1.456945e+01 -6.446210e+00 -2.581167e+00 -3.356153e+00 -1.932991e+00   \n",
              "25%   -3.159613e-01 -6.919874e-01 -6.059668e-01 -5.884012e-01 -9.439025e-01   \n",
              "50%    2.446575e-01  1.659247e-01  2.289701e-02  7.231301e-02 -3.762062e-02   \n",
              "75%    6.159095e-01  7.323368e-01  5.575363e-01  6.275166e-01  7.624716e-01   \n",
              "max    1.616807e+00  1.972582e+00  3.037363e+00  3.446551e+00  3.270983e+00   \n",
              "\n",
              "       ShapeFactor3  ShapeFactor4         Class  \n",
              "count  1.361100e+04  1.361100e+04  13611.000000  \n",
              "mean  -5.410043e-16  1.991064e-14      4.532657  \n",
              "std    1.000037e+00  1.000037e+00      1.828709  \n",
              "min   -2.356255e+00 -1.085036e+01      1.000000  \n",
              "25%   -6.286495e-01 -3.115721e-01      3.000000  \n",
              "50%   -1.561590e-02  3.029170e-01      4.000000  \n",
              "75%    5.294956e-01  6.456801e-01      6.000000  \n",
              "max    3.345475e+00  1.069377e+00      7.000000  "
            ],
            "text/html": [
              "\n",
              "  <div id=\"df-59263812-340f-42ae-bf3d-2619089bd7d3\">\n",
              "    <div class=\"colab-df-container\">\n",
              "      <div>\n",
              "<style scoped>\n",
              "    .dataframe tbody tr th:only-of-type {\n",
              "        vertical-align: middle;\n",
              "    }\n",
              "\n",
              "    .dataframe tbody tr th {\n",
              "        vertical-align: top;\n",
              "    }\n",
              "\n",
              "    .dataframe thead th {\n",
              "        text-align: right;\n",
              "    }\n",
              "</style>\n",
              "<table border=\"1\" class=\"dataframe\">\n",
              "  <thead>\n",
              "    <tr style=\"text-align: right;\">\n",
              "      <th></th>\n",
              "      <th>Area</th>\n",
              "      <th>Perimeter</th>\n",
              "      <th>MajorAxisLength</th>\n",
              "      <th>MinorAxisLength</th>\n",
              "      <th>AspectRation</th>\n",
              "      <th>Eccentricity</th>\n",
              "      <th>ConvexArea</th>\n",
              "      <th>EquivDiameter</th>\n",
              "      <th>Extent</th>\n",
              "      <th>Solidity</th>\n",
              "      <th>roundness</th>\n",
              "      <th>Compactness</th>\n",
              "      <th>ShapeFactor1</th>\n",
              "      <th>ShapeFactor2</th>\n",
              "      <th>ShapeFactor3</th>\n",
              "      <th>ShapeFactor4</th>\n",
              "      <th>Class</th>\n",
              "    </tr>\n",
              "  </thead>\n",
              "  <tbody>\n",
              "    <tr>\n",
              "      <th>count</th>\n",
              "      <td>1.361100e+04</td>\n",
              "      <td>1.361100e+04</td>\n",
              "      <td>1.361100e+04</td>\n",
              "      <td>1.361100e+04</td>\n",
              "      <td>1.361100e+04</td>\n",
              "      <td>1.361100e+04</td>\n",
              "      <td>1.361100e+04</td>\n",
              "      <td>1.361100e+04</td>\n",
              "      <td>1.361100e+04</td>\n",
              "      <td>1.361100e+04</td>\n",
              "      <td>1.361100e+04</td>\n",
              "      <td>1.361100e+04</td>\n",
              "      <td>1.361100e+04</td>\n",
              "      <td>1.361100e+04</td>\n",
              "      <td>1.361100e+04</td>\n",
              "      <td>1.361100e+04</td>\n",
              "      <td>13611.000000</td>\n",
              "    </tr>\n",
              "    <tr>\n",
              "      <th>mean</th>\n",
              "      <td>-6.604363e-16</td>\n",
              "      <td>-1.216596e-15</td>\n",
              "      <td>8.703803e-16</td>\n",
              "      <td>4.103445e-16</td>\n",
              "      <td>-5.324805e-16</td>\n",
              "      <td>-7.462051e-16</td>\n",
              "      <td>-9.092597e-16</td>\n",
              "      <td>-3.963800e-16</td>\n",
              "      <td>-1.876922e-15</td>\n",
              "      <td>-2.301027e-14</td>\n",
              "      <td>2.380687e-16</td>\n",
              "      <td>-5.287263e-16</td>\n",
              "      <td>-8.734513e-16</td>\n",
              "      <td>7.887938e-16</td>\n",
              "      <td>-5.410043e-16</td>\n",
              "      <td>1.991064e-14</td>\n",
              "      <td>4.532657</td>\n",
              "    </tr>\n",
              "    <tr>\n",
              "      <th>std</th>\n",
              "      <td>1.000037e+00</td>\n",
              "      <td>1.000037e+00</td>\n",
              "      <td>1.000037e+00</td>\n",
              "      <td>1.000037e+00</td>\n",
              "      <td>1.000037e+00</td>\n",
              "      <td>1.000037e+00</td>\n",
              "      <td>1.000037e+00</td>\n",
              "      <td>1.000037e+00</td>\n",
              "      <td>1.000037e+00</td>\n",
              "      <td>1.000037e+00</td>\n",
              "      <td>1.000037e+00</td>\n",
              "      <td>1.000037e+00</td>\n",
              "      <td>1.000037e+00</td>\n",
              "      <td>1.000037e+00</td>\n",
              "      <td>1.000037e+00</td>\n",
              "      <td>1.000037e+00</td>\n",
              "      <td>1.828709</td>\n",
              "    </tr>\n",
              "    <tr>\n",
              "      <th>min</th>\n",
              "      <td>-1.112719e+00</td>\n",
              "      <td>-1.542583e+00</td>\n",
              "      <td>-1.593407e+00</td>\n",
              "      <td>-1.773645e+00</td>\n",
              "      <td>-2.263655e+00</td>\n",
              "      <td>-5.782098e+00</td>\n",
              "      <td>-1.111184e+00</td>\n",
              "      <td>-1.551678e+00</td>\n",
              "      <td>-3.960880e+00</td>\n",
              "      <td>-1.456945e+01</td>\n",
              "      <td>-6.446210e+00</td>\n",
              "      <td>-2.581167e+00</td>\n",
              "      <td>-3.356153e+00</td>\n",
              "      <td>-1.932991e+00</td>\n",
              "      <td>-2.356255e+00</td>\n",
              "      <td>-1.085036e+01</td>\n",
              "      <td>1.000000</td>\n",
              "    </tr>\n",
              "    <tr>\n",
              "      <th>25%</th>\n",
              "      <td>-5.702102e-01</td>\n",
              "      <td>-7.082260e-01</td>\n",
              "      <td>-7.799910e-01</td>\n",
              "      <td>-5.875797e-01</td>\n",
              "      <td>-6.118921e-01</td>\n",
              "      <td>-3.800848e-01</td>\n",
              "      <td>-5.727750e-01</td>\n",
              "      <td>-6.420997e-01</td>\n",
              "      <td>-6.335853e-01</td>\n",
              "      <td>-3.159613e-01</td>\n",
              "      <td>-6.919874e-01</td>\n",
              "      <td>-6.059668e-01</td>\n",
              "      <td>-5.884012e-01</td>\n",
              "      <td>-9.439025e-01</td>\n",
              "      <td>-6.286495e-01</td>\n",
              "      <td>-3.115721e-01</td>\n",
              "      <td>3.000000</td>\n",
              "    </tr>\n",
              "    <tr>\n",
              "      <th>50%</th>\n",
              "      <td>-2.863377e-01</td>\n",
              "      <td>-2.816033e-01</td>\n",
              "      <td>-2.714228e-01</td>\n",
              "      <td>-2.187975e-01</td>\n",
              "      <td>-1.302079e-01</td>\n",
              "      <td>1.472404e-01</td>\n",
              "      <td>-2.885152e-01</td>\n",
              "      <td>-2.471687e-01</td>\n",
              "      <td>2.063003e-01</td>\n",
              "      <td>2.446575e-01</td>\n",
              "      <td>1.659247e-01</td>\n",
              "      <td>2.289701e-02</td>\n",
              "      <td>7.231301e-02</td>\n",
              "      <td>-3.762062e-02</td>\n",
              "      <td>-1.561590e-02</td>\n",
              "      <td>3.029170e-01</td>\n",
              "      <td>4.000000</td>\n",
              "    </tr>\n",
              "    <tr>\n",
              "      <th>75%</th>\n",
              "      <td>2.824987e-01</td>\n",
              "      <td>5.690149e-01</td>\n",
              "      <td>6.576317e-01</td>\n",
              "      <td>3.282530e-01</td>\n",
              "      <td>5.021578e-01</td>\n",
              "      <td>6.475228e-01</td>\n",
              "      <td>2.863522e-01</td>\n",
              "      <td>4.458347e-01</td>\n",
              "      <td>7.562196e-01</td>\n",
              "      <td>6.159095e-01</td>\n",
              "      <td>7.323368e-01</td>\n",
              "      <td>5.575363e-01</td>\n",
              "      <td>6.275166e-01</td>\n",
              "      <td>7.624716e-01</td>\n",
              "      <td>5.294956e-01</td>\n",
              "      <td>6.456801e-01</td>\n",
              "      <td>6.000000</td>\n",
              "    </tr>\n",
              "    <tr>\n",
              "      <th>max</th>\n",
              "      <td>6.874044e+00</td>\n",
              "      <td>5.273833e+00</td>\n",
              "      <td>4.886372e+00</td>\n",
              "      <td>5.735751e+00</td>\n",
              "      <td>3.434007e+00</td>\n",
              "      <td>1.744901e+00</td>\n",
              "      <td>7.036141e+00</td>\n",
              "      <td>5.345339e+00</td>\n",
              "      <td>2.372678e+00</td>\n",
              "      <td>1.616807e+00</td>\n",
              "      <td>1.972582e+00</td>\n",
              "      <td>3.037363e+00</td>\n",
              "      <td>3.446551e+00</td>\n",
              "      <td>3.270983e+00</td>\n",
              "      <td>3.345475e+00</td>\n",
              "      <td>1.069377e+00</td>\n",
              "      <td>7.000000</td>\n",
              "    </tr>\n",
              "  </tbody>\n",
              "</table>\n",
              "</div>\n",
              "      <button class=\"colab-df-convert\" onclick=\"convertToInteractive('df-59263812-340f-42ae-bf3d-2619089bd7d3')\"\n",
              "              title=\"Convert this dataframe to an interactive table.\"\n",
              "              style=\"display:none;\">\n",
              "        \n",
              "  <svg xmlns=\"http://www.w3.org/2000/svg\" height=\"24px\"viewBox=\"0 0 24 24\"\n",
              "       width=\"24px\">\n",
              "    <path d=\"M0 0h24v24H0V0z\" fill=\"none\"/>\n",
              "    <path d=\"M18.56 5.44l.94 2.06.94-2.06 2.06-.94-2.06-.94-.94-2.06-.94 2.06-2.06.94zm-11 1L8.5 8.5l.94-2.06 2.06-.94-2.06-.94L8.5 2.5l-.94 2.06-2.06.94zm10 10l.94 2.06.94-2.06 2.06-.94-2.06-.94-.94-2.06-.94 2.06-2.06.94z\"/><path d=\"M17.41 7.96l-1.37-1.37c-.4-.4-.92-.59-1.43-.59-.52 0-1.04.2-1.43.59L10.3 9.45l-7.72 7.72c-.78.78-.78 2.05 0 2.83L4 21.41c.39.39.9.59 1.41.59.51 0 1.02-.2 1.41-.59l7.78-7.78 2.81-2.81c.8-.78.8-2.07 0-2.86zM5.41 20L4 18.59l7.72-7.72 1.47 1.35L5.41 20z\"/>\n",
              "  </svg>\n",
              "      </button>\n",
              "      \n",
              "  <style>\n",
              "    .colab-df-container {\n",
              "      display:flex;\n",
              "      flex-wrap:wrap;\n",
              "      gap: 12px;\n",
              "    }\n",
              "\n",
              "    .colab-df-convert {\n",
              "      background-color: #E8F0FE;\n",
              "      border: none;\n",
              "      border-radius: 50%;\n",
              "      cursor: pointer;\n",
              "      display: none;\n",
              "      fill: #1967D2;\n",
              "      height: 32px;\n",
              "      padding: 0 0 0 0;\n",
              "      width: 32px;\n",
              "    }\n",
              "\n",
              "    .colab-df-convert:hover {\n",
              "      background-color: #E2EBFA;\n",
              "      box-shadow: 0px 1px 2px rgba(60, 64, 67, 0.3), 0px 1px 3px 1px rgba(60, 64, 67, 0.15);\n",
              "      fill: #174EA6;\n",
              "    }\n",
              "\n",
              "    [theme=dark] .colab-df-convert {\n",
              "      background-color: #3B4455;\n",
              "      fill: #D2E3FC;\n",
              "    }\n",
              "\n",
              "    [theme=dark] .colab-df-convert:hover {\n",
              "      background-color: #434B5C;\n",
              "      box-shadow: 0px 1px 3px 1px rgba(0, 0, 0, 0.15);\n",
              "      filter: drop-shadow(0px 1px 2px rgba(0, 0, 0, 0.3));\n",
              "      fill: #FFFFFF;\n",
              "    }\n",
              "  </style>\n",
              "\n",
              "      <script>\n",
              "        const buttonEl =\n",
              "          document.querySelector('#df-59263812-340f-42ae-bf3d-2619089bd7d3 button.colab-df-convert');\n",
              "        buttonEl.style.display =\n",
              "          google.colab.kernel.accessAllowed ? 'block' : 'none';\n",
              "\n",
              "        async function convertToInteractive(key) {\n",
              "          const element = document.querySelector('#df-59263812-340f-42ae-bf3d-2619089bd7d3');\n",
              "          const dataTable =\n",
              "            await google.colab.kernel.invokeFunction('convertToInteractive',\n",
              "                                                     [key], {});\n",
              "          if (!dataTable) return;\n",
              "\n",
              "          const docLinkHtml = 'Like what you see? Visit the ' +\n",
              "            '<a target=\"_blank\" href=https://colab.research.google.com/notebooks/data_table.ipynb>data table notebook</a>'\n",
              "            + ' to learn more about interactive tables.';\n",
              "          element.innerHTML = '';\n",
              "          dataTable['output_type'] = 'display_data';\n",
              "          await google.colab.output.renderOutput(dataTable, element);\n",
              "          const docLink = document.createElement('div');\n",
              "          docLink.innerHTML = docLinkHtml;\n",
              "          element.appendChild(docLink);\n",
              "        }\n",
              "      </script>\n",
              "    </div>\n",
              "  </div>\n",
              "  "
            ]
          },
          "metadata": {},
          "execution_count": 11
        }
      ]
    },
    {
      "cell_type": "code",
      "source": [
        "target = 'Class'\n",
        "X = dryBeanDataset.iloc[:, dryBeanDataset.columns != target]\n",
        "y = dryBeanDataset.iloc[:, dryBeanDataset.columns.get_loc(target)]"
      ],
      "metadata": {
        "id": "P5-VywkHuBzF"
      },
      "execution_count": null,
      "outputs": []
    },
    {
      "cell_type": "code",
      "source": [
        "x_train, x_test, y_train, y_test = train_test_split(X, y, test_size = 0.3, random_state = 42, shuffle = True, stratify = y)"
      ],
      "metadata": {
        "id": "aTyS7aB-tW4L"
      },
      "execution_count": null,
      "outputs": []
    },
    {
      "cell_type": "code",
      "source": [
        "y_train.value_counts()"
      ],
      "metadata": {
        "colab": {
          "base_uri": "https://localhost:8080/"
        },
        "id": "H3Ucpd8sPQxB",
        "outputId": "aa7c857a-1f7b-419b-b094-43cd5f41c958"
      },
      "execution_count": null,
      "outputs": [
        {
          "output_type": "execute_result",
          "data": {
            "text/plain": [
              "4    2482\n",
              "7    1845\n",
              "6    1419\n",
              "5    1350\n",
              "3    1141\n",
              "1     925\n",
              "2     365\n",
              "Name: Class, dtype: int64"
            ]
          },
          "metadata": {},
          "execution_count": 14
        }
      ]
    },
    {
      "cell_type": "code",
      "source": [
        "y_test.value_counts()"
      ],
      "metadata": {
        "colab": {
          "base_uri": "https://localhost:8080/"
        },
        "id": "YgaJgjflPRH0",
        "outputId": "d3abf716-91a2-401f-985b-5fcb6180255b"
      },
      "execution_count": null,
      "outputs": [
        {
          "output_type": "execute_result",
          "data": {
            "text/plain": [
              "4    1064\n",
              "7     791\n",
              "6     608\n",
              "5     578\n",
              "3     489\n",
              "1     397\n",
              "2     157\n",
              "Name: Class, dtype: int64"
            ]
          },
          "metadata": {},
          "execution_count": 15
        }
      ]
    },
    {
      "cell_type": "code",
      "source": [
        "sns.distplot(y_train)"
      ],
      "metadata": {
        "colab": {
          "base_uri": "https://localhost:8080/",
          "height": 301
        },
        "id": "6-zjlMLtP4sy",
        "outputId": "1982a186-919c-48f9-c90c-855be204f1c8"
      },
      "execution_count": null,
      "outputs": [
        {
          "output_type": "execute_result",
          "data": {
            "text/plain": [
              "<matplotlib.axes._subplots.AxesSubplot at 0x7fe30355df50>"
            ]
          },
          "metadata": {},
          "execution_count": 16
        },
        {
          "output_type": "display_data",
          "data": {
            "text/plain": [
              "<Figure size 432x288 with 1 Axes>"
            ],
            "image/png": "[encoded data removed]"
          },
          "metadata": {
            "needs_background": "light"
          }
        }
      ]
    },
    {
      "cell_type": "code",
      "source": [
        "sns.distplot(y_test)"
      ],
      "metadata": {
        "colab": {
          "base_uri": "https://localhost:8080/",
          "height": 297
        },
        "id": "M8xd2sccPyeV",
        "outputId": "405f71ef-82cd-4edb-feae-8f1d55854b5c"
      },
      "execution_count": null,
      "outputs": [
        {
          "output_type": "execute_result",
          "data": {
            "text/plain": [
              "<matplotlib.axes._subplots.AxesSubplot at 0x7fe3034bfb50>"
            ]
          },
          "metadata": {},
          "execution_count": 17
        },
        {
          "output_type": "display_data",
          "data": {
            "text/plain": [
              "<Figure size 432x288 with 1 Axes>"
            ],
            "image/png": "[encoded data removed]"
          },
          "metadata": {
            "needs_background": "light"
          }
        }
      ]
    },
    {
      "cell_type": "code",
      "source": [
        "x_train = x_train.values.tolist()\n",
        "x_test = x_test.values.tolist()\n",
        "y_train = y_train.values.tolist()\n",
        "y_test = y_test.values.tolist()"
      ],
      "metadata": {
        "id": "nMk82wp6Pb31"
      },
      "execution_count": null,
      "outputs": []
    },
    {
      "cell_type": "markdown",
      "source": [
        "##**b.** Implement a multi-layer perceptron from scratch. This would include the following\n"
      ],
      "metadata": {
        "id": "yTLUjb6q-q0Z"
      }
    },
    {
      "cell_type": "markdown",
      "source": [
        "###**0.** Initialize network."
      ],
      "metadata": {
        "id": "DtEyTn4lt01l"
      }
    },
    {
      "cell_type": "code",
      "source": [
        "def initNetwork(inputs, hidden_layers, outputs):\n",
        "\tnetwork = []\n",
        "\t# Initializing the weights with random values.\n",
        "\t# Hidden Layers\n",
        "\thidden_layer = [{'wts':[random() for i in range(inputs + 1)]} for i in range(hidden_layers)]\n",
        "\t# Output Layer.\n",
        "\toutput_layer = [{'wts':[random() for i in range(hidden_layers + 1)]} for i in range(outputs)]\n",
        "\tnetwork.append(hidden_layer)\n",
        "\tnetwork.append(output_layer)\n",
        "\treturn network"
      ],
      "metadata": {
        "id": "Gs2qfTzqr_-A"
      },
      "execution_count": null,
      "outputs": []
    },
    {
      "cell_type": "code",
      "source": [
        "def productOfWeightAndInputs(wts, inputs):\n",
        "\tproductOfWeightAndInputs = wts[-1]\n",
        "\tfor itr in range(len(wts)-1):\n",
        "\t\tproductOfWeightAndInputs += float(wts[itr]) * float(inputs[itr])\n",
        "\treturn productOfWeightAndInputs"
      ],
      "metadata": {
        "id": "8Tgmsl3JLjNg"
      },
      "execution_count": null,
      "outputs": []
    },
    {
      "cell_type": "markdown",
      "source": [
        "###**i.** Write activation functions."
      ],
      "metadata": {
        "id": "hjPjW_3LJoYR"
      }
    },
    {
      "cell_type": "code",
      "source": [
        "# Activation Functions\n",
        "\n",
        "def Sigmoid(productOfWeightAndInputs):\n",
        "\treturn 1.0 / (1.0 + exp((-1)*productOfWeightAndInputs))\n",
        " \n",
        "def Tanh(productOfWeightAndInputs):\n",
        "    return tanh(productOfWeightAndInputs)\n",
        "\n",
        "def LeakyReLu():\n",
        "    return max(0.1*productOfWeightAndInputs, productOfWeightAndInputs)\n",
        "\n",
        "def ReLu(productOfWeightAndInputs):\n",
        "    return max(0, productOfWeightAndInputs)\n",
        "\n",
        "# Their Derivatives\n",
        "\n",
        "def Sigmoid_d(output):\n",
        "\treturn output * (1.0 - output)\n",
        " \n",
        "def ReLu_d(output):\n",
        "    if output <= 0:\n",
        "        return 0\n",
        "    else:\n",
        "        return 1\n",
        "\n",
        "def LeakyReLu_d(output):\n",
        "    if output <= 0:\n",
        "        return 0.1\n",
        "    else:\n",
        "        return 1\n",
        "\n",
        "def Tanh_d(output):\n",
        "    return 1-((output)**2)"
      ],
      "metadata": {
        "id": "fsMc8dUQ_NOL"
      },
      "execution_count": null,
      "outputs": []
    },
    {
      "cell_type": "markdown",
      "source": [
        "###**ii.** Forward propagate the input."
      ],
      "metadata": {
        "id": "6fNpSLRFK058"
      }
    },
    {
      "cell_type": "code",
      "source": [
        "def forwardPropagate(network, row, activation):\n",
        "    inputs = row\n",
        "    for layer in network:\n",
        "        newInputs = []\n",
        "        for neuron in layer:\n",
        "            prod = productOfWeightAndInputs(neuron['wts'], inputs)\n",
        "            if activation == 'Sigmoid':\n",
        "                neuron['output'] = Sigmoid(prod)\n",
        "            elif activation == 'ReLu':\n",
        "                neuron['output'] = ReLu(prod)\n",
        "            elif activation == 'Tanh':\n",
        "                neuron['output'] = Tanh(prod)\n",
        "            elif activation == 'LeakyReLu':\n",
        "                neuron['output'] = LeakyReLu(prod)\n",
        "            else:\n",
        "                print(\"Invalid Activation Function!!\")\n",
        "            newInputs.append(neuron['output'])\n",
        "        inputs = newInputs\n",
        "    return inputs"
      ],
      "metadata": {
        "id": "6RPWfiXYK1rJ"
      },
      "execution_count": null,
      "outputs": []
    },
    {
      "cell_type": "markdown",
      "source": [
        "###**iii.** Backward propagate the error."
      ],
      "metadata": {
        "id": "EfcxclM1LqNC"
      }
    },
    {
      "cell_type": "code",
      "source": [
        "def backwardPropagateTheError(network, expected, activation):\n",
        "    for i in reversed(range(len(network))):\n",
        "        layer = network[i]\n",
        "        errors = []\n",
        "        if(i==len(network)-1):\n",
        "            for j in range(len(layer)):\n",
        "                neuron = layer[j]\n",
        "                errors.append(expected[j] - neuron['output']) \n",
        "        else:\n",
        "            for j in range(len(layer)):\n",
        "                error = 0.0\n",
        "                for neuron in network[i+1]:\n",
        "                    error += (neuron['wts'][j] * neuron['delta'])\n",
        "                errors.append(error)            \n",
        "\n",
        "        for j in range(len(layer)):\n",
        "            neuron = layer[j]\n",
        "            if activation == 'Sigmoid':\n",
        "                neuron['delta'] = errors[j] * Sigmoid_d(neuron['output'])\n",
        "            elif activation == 'ReLu':\n",
        "                neuron['delta'] = errors[j] * ReLu_d(neuron['output'])\n",
        "            elif activation == 'Tanh':\n",
        "                neuron['delta'] = errors[j] * Tanh_d(neuron['output'])\n",
        "            elif activation == 'LeakyReLu':\n",
        "                neuron['delta'] = errors[j] * LeakyReLu_d(neuron['output'])\n",
        "            else:\n",
        "                print(\"Invalid Activation Function!!\")"
      ],
      "metadata": {
        "id": "mKucsgZALvDP"
      },
      "execution_count": null,
      "outputs": []
    },
    {
      "cell_type": "markdown",
      "source": [
        "###**iv.** Train the network using stochastic gradient descent."
      ],
      "metadata": {
        "id": "Xy2MliCuto4A"
      }
    },
    {
      "cell_type": "code",
      "source": [
        "def updateweights(network, row, learning_rate):\n",
        "\tfor i in range(len(network)):\n",
        "\t\tinputs = row[:-1]\n",
        "\t\t# print(inputs)\n",
        "\t\tif(i != 0):\n",
        "\t\t\tinputs = [neuron['output'] for neuron in network[i - 1]]\n",
        "\t\t\t# print(inputs)\n",
        "\t\tfor neuron in network[i]:\n",
        "\t\t\tfor j in range(len(inputs)):\n",
        "\t\t\t\tneuron['wts'][j] += learning_rate * neuron['delta'] * inputs[j]\n",
        "\t\t\tneuron['wts'][-1] += learning_rate * neuron['delta']"
      ],
      "metadata": {
        "id": "Z1Pw7KAhtEkG"
      },
      "execution_count": null,
      "outputs": []
    },
    {
      "cell_type": "code",
      "source": [
        "def trainNetwork(network, training, testing, learning_rate, epochs, n_outputs, activation):\n",
        "    loss = []\n",
        "    for epoch in range(epochs):\n",
        "        error = 0\n",
        "        for row in training:\n",
        "            outputs = forwardPropagate(network, row, activation)\n",
        "            for j in range(len(outputs)):\n",
        "                if(outputs[j]==max(outputs)):\n",
        "                    outputs[j] = 1\n",
        "                else:\n",
        "                    outputs[j] = 0\n",
        "            expected = [0 for i in range(n_outputs)]\n",
        "            expected[int(row[-1])-1] = 1\n",
        "            error += sum([(expected[k]-outputs[k])**2 for k in range(0, len(expected))])\n",
        "            backwardPropagateTheError(network, expected, activation)\n",
        "            updateweights(network, row, learning_rate)\n",
        "        loss.append(error)\n",
        "    pred = []\n",
        "    for row in testing:\n",
        "        outputs = forwardPropagate(network, row, activation)\n",
        "        pred.append(outputs.index(max(outputs))+1)\n",
        "    return min(loss)/len(training), pred"
      ],
      "metadata": {
        "id": "Tlp3SdmStH73"
      },
      "execution_count": null,
      "outputs": []
    },
    {
      "cell_type": "markdown",
      "source": [
        "###**v.** Predict the output for a given test sample and compute the accuracy."
      ],
      "metadata": {
        "id": "iGVbcmJatuhj"
      }
    },
    {
      "cell_type": "code",
      "source": [
        "inputs = X.shape[1]\n",
        "hidden_layers = 2\n",
        "outputs = 7\n",
        "network = initNetwork(inputs, hidden_layers, outputs)\n",
        "training = np.column_stack((x_train, y_train)).tolist()\n",
        "testing = x_test\n",
        "learning_rate = 0.001\n",
        "epochs = 100\n",
        "n_outputs = 7\n",
        "activation = 'ReLu'\n",
        "minimumLoss_ReLu, pred = trainNetwork(network, training, testing, learning_rate, epochs, n_outputs, activation)\n",
        "accuracy_ReLu = accuracy_score(y_test, pred)*100\n",
        "print(\"Accuracy: \", accuracy_ReLu)\n",
        "print(\"Loss:\", minimumLoss_ReLu)"
      ],
      "metadata": {
        "id": "NMIbZSuktOhg",
        "colab": {
          "base_uri": "https://localhost:8080/"
        },
        "outputId": "cf657df0-1b2e-4247-cfc6-1286f25a6e61"
      },
      "execution_count": null,
      "outputs": [
        {
          "output_type": "stream",
          "name": "stdout",
          "text": [
            "Accuracy:  81.04799216454457\n",
            "Loss: 0.3942479269444736\n"
          ]
        }
      ]
    },
    {
      "cell_type": "markdown",
      "source": [
        "##**c.** Now experiment with different activation functions (at least 3 & to be written from scratch) and comment (in the report) on how the accuracy varies. Create plots to support your arguments."
      ],
      "metadata": {
        "id": "w4_w7glw-zHo"
      }
    },
    {
      "cell_type": "markdown",
      "source": [
        "####ReLu"
      ],
      "metadata": {
        "id": "cHf63kHCxjeM"
      }
    },
    {
      "cell_type": "code",
      "source": [
        "inputs = X.shape[1]\n",
        "hidden_layers = 2\n",
        "outputs = 7\n",
        "network = initNetwork(inputs, hidden_layers, outputs)\n",
        "training = np.column_stack((x_train, y_train)).tolist()\n",
        "testing = x_test\n",
        "learning_rate = 0.001\n",
        "epochs = 100\n",
        "n_outputs = 7\n",
        "activation = 'ReLu'\n",
        "minimumLoss_ReLu, pred = trainNetwork(network, training, testing, learning_rate, epochs, n_outputs, activation)\n",
        "accuracy_ReLu = accuracy_score(y_test, pred)*100\n",
        "print(\"Accuracy: \", accuracy_ReLu)\n",
        "print(\"Loss:\", minimumLoss_ReLu)"
      ],
      "metadata": {
        "id": "b6msWVrR_Np_",
        "colab": {
          "base_uri": "https://localhost:8080/"
        },
        "outputId": "b22d6a5b-c48c-4d95-cae3-cdf21097ed25"
      },
      "execution_count": null,
      "outputs": [
        {
          "output_type": "stream",
          "name": "stdout",
          "text": [
            "Accuracy:  83.17825661116552\n",
            "Loss: 0.33063923585598826\n"
          ]
        }
      ]
    },
    {
      "cell_type": "markdown",
      "source": [
        "####Sigmoid"
      ],
      "metadata": {
        "id": "R7F9uiWRxpkX"
      }
    },
    {
      "cell_type": "code",
      "source": [
        "inputs = X.shape[1]\n",
        "hidden_layers = 2\n",
        "outputs = 7\n",
        "network = initNetwork(inputs, hidden_layers, outputs)\n",
        "training = np.column_stack((x_train, y_train)).tolist()\n",
        "testing = x_test\n",
        "learning_rate = 0.001\n",
        "epochs = 100\n",
        "n_outputs = 7\n",
        "activation = 'Sigmoid'\n",
        "minimumLoss_Sigmoid, pred = trainNetwork(network, training, testing, learning_rate, epochs, n_outputs, activation)\n",
        "accuracy_Sigmoid = accuracy_score(y_test, pred)*100\n",
        "print(\"Accuracy: \", accuracy_Sigmoid)\n",
        "print(\"Loss:\", minimumLoss_Sigmoid)"
      ],
      "metadata": {
        "colab": {
          "base_uri": "https://localhost:8080/"
        },
        "id": "nTgZCqtLuiEk",
        "outputId": "1a3fbb83-6366-457f-bdb7-6f2177478aee"
      },
      "execution_count": null,
      "outputs": [
        {
          "output_type": "stream",
          "name": "stdout",
          "text": [
            "Accuracy:  67.85014691478942\n",
            "Loss: 0.6344074734963787\n"
          ]
        }
      ]
    },
    {
      "cell_type": "markdown",
      "source": [
        "####Tanh"
      ],
      "metadata": {
        "id": "GqGN6E85x2IN"
      }
    },
    {
      "cell_type": "code",
      "source": [
        "inputs = X.shape[1]\n",
        "hidden_layers = 2\n",
        "outputs = 7\n",
        "network = initNetwork(inputs, hidden_layers, outputs)\n",
        "training = np.column_stack((x_train, y_train)).tolist()\n",
        "testing = x_test\n",
        "learning_rate = 0.001\n",
        "epochs = 100\n",
        "n_outputs = 7\n",
        "activation = 'Tanh'\n",
        "minimumLoss_Tanh, pred = trainNetwork(network, training, testing, learning_rate, epochs, n_outputs, activation)\n",
        "accuracy_Tanh = accuracy_score(y_test, pred)*100\n",
        "print(\"Accuracy: \", accuracy_Tanh)\n",
        "print(\"Loss:\", minimumLoss_Tanh)"
      ],
      "metadata": {
        "colab": {
          "base_uri": "https://localhost:8080/"
        },
        "id": "tgxvBXA1x1qt",
        "outputId": "ff96b23b-349f-463b-f4cc-09ef0832bc57"
      },
      "execution_count": null,
      "outputs": [
        {
          "output_type": "stream",
          "name": "stdout",
          "text": [
            "Accuracy:  52.42409402546523\n",
            "Loss: 0.5894825233546762\n"
          ]
        }
      ]
    },
    {
      "cell_type": "markdown",
      "source": [
        "####Plot"
      ],
      "metadata": {
        "id": "mWiG4aZGpiN5"
      }
    },
    {
      "cell_type": "code",
      "source": [
        "Dict = {}\n",
        "Dict['ReLu'] = accuracy_ReLu\n",
        "Dict['Sigmoid'] = accuracy_Sigmoid\n",
        "Dict['Tanh'] = accuracy_Tanh\n",
        "myList = Dict.items()\n",
        "myList = sorted(myList) \n",
        "x, y = zip(*myList) \n",
        "\n",
        "plt.plot(x, y)\n",
        "plt.title(\"Graph\")\n",
        "plt.xlabel(\"Activation Function\")\n",
        "plt.ylabel(\"Accuracy\")\n",
        "plt.show()"
      ],
      "metadata": {
        "colab": {
          "base_uri": "https://localhost:8080/",
          "height": 295
        },
        "id": "Dmap87CGz3An",
        "outputId": "13dbcec7-f14b-457d-d3f0-179e9925b958"
      },
      "execution_count": null,
      "outputs": [
        {
          "output_type": "display_data",
          "data": {
            "text/plain": [
              "<Figure size 432x288 with 1 Axes>"
            ],
            "image/png": "[encoded data removed]"
          },
          "metadata": {
            "needs_background": "light"
          }
        }
      ]
    },
    {
      "cell_type": "markdown",
      "source": [
        "##**d.** Experiment with different weight initialization: Random, Zero & Constant. Create plots to support your arguments."
      ],
      "metadata": {
        "id": "VWCZjbRp-81q"
      }
    },
    {
      "cell_type": "markdown",
      "source": [
        "####Random"
      ],
      "metadata": {
        "id": "cfIX5H6o2EgZ"
      }
    },
    {
      "cell_type": "code",
      "source": [
        "def initNetwork_random(n_inputs, n_hidden, n_outputs):\n",
        "\tnetwork = list()\n",
        "\thidden_layer = [{'wts':[random() for i in range(n_inputs + 1)]} for i in range(n_hidden)]\n",
        "\toutput_layer = [{'wts':[random() for i in range(n_hidden + 1)]} for i in range(n_outputs)]\n",
        "\tnetwork.append(hidden_layer)\n",
        "\tnetwork.append(output_layer)\n",
        "\treturn network"
      ],
      "metadata": {
        "id": "JYBaMFGS_OBK"
      },
      "execution_count": null,
      "outputs": []
    },
    {
      "cell_type": "code",
      "source": [
        "inputs = X.shape[1]\n",
        "hidden_layers = 2\n",
        "outputs = 7\n",
        "network = initNetwork_random(inputs, hidden_layers, outputs)\n",
        "training = np.column_stack((x_train, y_train)).tolist()\n",
        "testing = x_test\n",
        "learning_rate = 0.001\n",
        "epochs = 100\n",
        "n_outputs = 7\n",
        "activation = 'ReLu'\n",
        "minLoss_r, pred = trainNetwork(network, training, testing, learning_rate, epochs, n_outputs, activation)\n",
        "accuracy_r = accuracy_score(y_test, pred)*100\n",
        "print(\"Accuracy: \", accuracy_r)\n",
        "print(\"Loss:\", minLoss_r)"
      ],
      "metadata": {
        "colab": {
          "base_uri": "https://localhost:8080/"
        },
        "id": "M_kyppWR3ex5",
        "outputId": "0f1cb009-5a7a-444e-e7eb-b26a08750605"
      },
      "execution_count": null,
      "outputs": [
        {
          "output_type": "stream",
          "name": "stdout",
          "text": [
            "Accuracy:  81.53770812928501\n",
            "Loss: 0.3856408103285399\n"
          ]
        }
      ]
    },
    {
      "cell_type": "markdown",
      "source": [
        "####Zero"
      ],
      "metadata": {
        "id": "bDdk7Uyq2GGh"
      }
    },
    {
      "cell_type": "code",
      "source": [
        "def initNetwork_zero(n_inputs, n_hidden, n_outputs):\n",
        "\tnetwork = list()\n",
        "\thidden_layer = [{'wts':[0 for i in range(n_inputs + 1)]} for i in range(n_hidden)]\n",
        "\toutput_layer = [{'wts':[0 for i in range(n_hidden + 1)]} for i in range(n_outputs)]\n",
        "\tnetwork.append(hidden_layer)\n",
        "\tnetwork.append(output_layer)\n",
        "\treturn network"
      ],
      "metadata": {
        "id": "eVVjNbMd2Hfb"
      },
      "execution_count": null,
      "outputs": []
    },
    {
      "cell_type": "code",
      "source": [
        "inputs = X.shape[1]\n",
        "hidden_layers = 2\n",
        "outputs = 7\n",
        "network = initNetwork_zero(inputs, hidden_layers, outputs)\n",
        "training = np.column_stack((x_train, y_train)).tolist()\n",
        "testing = x_test\n",
        "learning_rate = 0.001\n",
        "epochs = 100\n",
        "n_outputs = 7\n",
        "activation = 'ReLu'\n",
        "minLoss_z, pred = trainNetwork(network, training, testing, learning_rate, epochs, n_outputs, activation)\n",
        "accuracy_z = accuracy_score(y_test, pred)*100\n",
        "print(\"Accuracy: \", accuracy_z)\n",
        "print(\"Loss:\", minLoss_z)"
      ],
      "metadata": {
        "colab": {
          "base_uri": "https://localhost:8080/"
        },
        "id": "VUDAvpPP2bo1",
        "outputId": "e34b25c3-1c00-4509-f7e1-60190cff4871"
      },
      "execution_count": null,
      "outputs": [
        {
          "output_type": "stream",
          "name": "stdout",
          "text": [
            "Accuracy:  9.720861900097944\n",
            "Loss: 1.8058150519575942\n"
          ]
        }
      ]
    },
    {
      "cell_type": "markdown",
      "source": [
        "####Constant"
      ],
      "metadata": {
        "id": "raJmQILv2LD7"
      }
    },
    {
      "cell_type": "code",
      "source": [
        "def initNetwork_constant(n_inputs, n_hidden, n_outputs):\n",
        "\tnetwork = list()\n",
        "\thidden_layer = [{'wts':[1 for i in range(n_inputs + 1)]} for i in range(n_hidden)]\n",
        "\toutput_layer = [{'wts':[1 for i in range(n_hidden + 1)]} for i in range(n_outputs)]\n",
        "\tnetwork.append(hidden_layer)\n",
        "\tnetwork.append(output_layer)\n",
        "\treturn network"
      ],
      "metadata": {
        "id": "6kR883sg2Kzv"
      },
      "execution_count": null,
      "outputs": []
    },
    {
      "cell_type": "code",
      "source": [
        "inputs = X.shape[1]\n",
        "hidden_layers = 2\n",
        "outputs = 7\n",
        "network = initNetwork_constant(inputs, hidden_layers, outputs)\n",
        "training = np.column_stack((x_train, y_train)).tolist()\n",
        "testing = x_test\n",
        "learning_rate = 0.001\n",
        "epochs = 100\n",
        "n_outputs = 7\n",
        "activation = 'ReLu'\n",
        "minLoss_c, pred = trainNetwork(network, training, testing, learning_rate, epochs, n_outputs, activation)\n",
        "accuracy_c = accuracy_score(y_test, pred)*100\n",
        "print(\"Accuracy: \", accuracy_c)\n",
        "print(\"Loss:\", minLoss_c)"
      ],
      "metadata": {
        "colab": {
          "base_uri": "https://localhost:8080/"
        },
        "id": "D60QOUlD3CFx",
        "outputId": "fe9d5b18-c8ab-46f9-e6ea-e4a8561426e3"
      },
      "execution_count": null,
      "outputs": [
        {
          "output_type": "stream",
          "name": "stdout",
          "text": [
            "Accuracy:  29.505386875612142\n",
            "Loss: 1.4084181799097302\n"
          ]
        }
      ]
    },
    {
      "cell_type": "markdown",
      "source": [
        "####Plot"
      ],
      "metadata": {
        "id": "ZG-PHijfudt4"
      }
    },
    {
      "cell_type": "code",
      "source": [
        "Dict = {}\n",
        "Dict['Random'] = accuracy_r\n",
        "Dict['Zero'] = accuracy_z\n",
        "Dict['Constant'] = accuracy_c\n",
        "myList = Dict.items()\n",
        "myList = sorted(myList) \n",
        "x, y = zip(*myList) \n",
        "\n",
        "plt.plot(x, y)\n",
        "plt.title(\"Graph\")\n",
        "plt.xlabel(\"Weight initialization\")\n",
        "plt.ylabel(\"Accuracy\")\n",
        "plt.show()"
      ],
      "metadata": {
        "colab": {
          "base_uri": "https://localhost:8080/",
          "height": 295
        },
        "id": "7CKXlUsd4BjV",
        "outputId": "4193d7f5-f85a-4af1-af51-18d831582f3e"
      },
      "execution_count": null,
      "outputs": [
        {
          "output_type": "display_data",
          "data": {
            "text/plain": [
              "<Figure size 432x288 with 1 Axes>"
            ],
            "image/png": "[encoded data removed]"
          },
          "metadata": {
            "needs_background": "light"
          }
        }
      ]
    },
    {
      "cell_type": "markdown",
      "source": [
        "##**e.** Change the number of hidden nodes and comment upon the training and accuracy. Create plots to support your arguments."
      ],
      "metadata": {
        "id": "Y6MPGCH1-_rW"
      }
    },
    {
      "cell_type": "markdown",
      "source": [
        "####1 Hidden Node"
      ],
      "metadata": {
        "id": "z7243i4gt_Ft"
      }
    },
    {
      "cell_type": "code",
      "source": [
        "start_time = time.time()\n",
        "inputs = X.shape[1]\n",
        "hidden_layers = 1\n",
        "outputs = 7\n",
        "network = initNetwork(inputs, hidden_layers, outputs)\n",
        "training = np.column_stack((x_train, y_train)).tolist()\n",
        "testing = x_test\n",
        "learning_rate = 0.001\n",
        "epochs = 100\n",
        "n_outputs = 7\n",
        "activation = 'ReLu'\n",
        "minLoss_r_h1, pred = trainNetwork(network, training, testing, learning_rate, epochs, n_outputs, activation)\n",
        "accuracy_r_h1 = accuracy_score(y_test, pred)*100\n",
        "print(\"Accuracy: \", accuracy_r_h1)\n",
        "print(\"Loss:\", minLoss_r_h1)\n",
        "print(\"--- Training Time: %s seconds ---\" % (time.time() - start_time))"
      ],
      "metadata": {
        "id": "QZImpnzc_OYy",
        "colab": {
          "base_uri": "https://localhost:8080/"
        },
        "outputId": "98e151ac-7d44-4d00-d82d-52ea2b5f2191"
      },
      "execution_count": null,
      "outputs": [
        {
          "output_type": "stream",
          "name": "stdout",
          "text": [
            "Accuracy:  58.521057786483844\n",
            "Loss: 0.8432874986879395\n",
            "--- Training Time: 43.860706090927124 seconds ---\n"
          ]
        }
      ]
    },
    {
      "cell_type": "markdown",
      "source": [
        "####2 Hidden Node"
      ],
      "metadata": {
        "id": "ylObeUy0uF4_"
      }
    },
    {
      "cell_type": "code",
      "source": [
        "start_time = time.time()\n",
        "inputs = X.shape[1]\n",
        "hidden_layers = 2\n",
        "outputs = 7\n",
        "network = initNetwork(inputs, hidden_layers, outputs)\n",
        "training = np.column_stack((x_train, y_train)).tolist()\n",
        "testing = x_test\n",
        "learning_rate = 0.001\n",
        "epochs = 100\n",
        "n_outputs = 7\n",
        "activation = 'ReLu'\n",
        "minLoss_r_h2, pred = trainNetwork(network, training, testing, learning_rate, epochs, n_outputs, activation)\n",
        "accuracy_r_h2 = accuracy_score(y_test, pred)*100\n",
        "print(\"Accuracy: \", accuracy_r_h2)\n",
        "print(\"Loss:\", minLoss_r_h2)\n",
        "print(\"--- Training Time: %s seconds ---\" % (time.time() - start_time))"
      ],
      "metadata": {
        "colab": {
          "base_uri": "https://localhost:8080/"
        },
        "id": "AoyL8AQN5NU9",
        "outputId": "d64581e7-efd2-4db3-e1bd-3e10b416710a"
      },
      "execution_count": null,
      "outputs": [
        {
          "output_type": "stream",
          "name": "stdout",
          "text": [
            "Accuracy:  85.06366307541626\n",
            "Loss: 0.2922221055946258\n",
            "--- Training Time: 59.103824853897095 seconds ---\n"
          ]
        }
      ]
    },
    {
      "cell_type": "markdown",
      "source": [
        "####3 Hidden Node"
      ],
      "metadata": {
        "id": "Lc2BJJjLuKRZ"
      }
    },
    {
      "cell_type": "code",
      "source": [
        "start_time = time.time()\n",
        "inputs = X.shape[1]\n",
        "hidden_layers = 3\n",
        "outputs = 7\n",
        "network = initNetwork(inputs, hidden_layers, outputs)\n",
        "training = np.column_stack((x_train, y_train)).tolist()\n",
        "testing = x_test\n",
        "learning_rate = 0.001\n",
        "epochs = 100\n",
        "n_outputs = 7\n",
        "activation = 'ReLu'\n",
        "minLoss_r_h3, pred = trainNetwork(network, training, testing, learning_rate, epochs, n_outputs, activation)\n",
        "accuracy_r_h3 = accuracy_score(y_test, pred)*100\n",
        "print(\"Accuracy: \", accuracy_r_h3)\n",
        "print(\"Loss:\", minLoss_r_h3)\n",
        "print(\"--- Training Time: %s seconds ---\" % (time.time() - start_time))"
      ],
      "metadata": {
        "colab": {
          "base_uri": "https://localhost:8080/"
        },
        "id": "CFjaZFfh5OeA",
        "outputId": "661eafb7-d4b2-41c0-a3ea-aaaa88f23995"
      },
      "execution_count": null,
      "outputs": [
        {
          "output_type": "stream",
          "name": "stdout",
          "text": [
            "Accuracy:  90.59745347698335\n",
            "Loss: 0.19061614359189671\n",
            "--- Training Time: 72.98189234733582 seconds ---\n"
          ]
        }
      ]
    },
    {
      "cell_type": "markdown",
      "source": [
        "####4 Hidden Node"
      ],
      "metadata": {
        "id": "nNHeDAqYuM3L"
      }
    },
    {
      "cell_type": "code",
      "source": [
        "start_time = time.time()\n",
        "inputs = X.shape[1]\n",
        "hidden_layers = 4\n",
        "outputs = 7\n",
        "network = initNetwork(inputs, hidden_layers, outputs)\n",
        "training = np.column_stack((x_train, y_train)).tolist()\n",
        "testing = x_test\n",
        "learning_rate = 0.001\n",
        "epochs = 100\n",
        "n_outputs = 7\n",
        "activation = 'ReLu'\n",
        "minLoss_r_h4, pred = trainNetwork(network, training, testing, learning_rate, epochs, n_outputs, activation)\n",
        "accuracy_r_h4 = accuracy_score(y_test, pred)*100\n",
        "print(\"Accuracy: \", accuracy_r_h4)\n",
        "print(\"Loss:\", minLoss_r_h4)\n",
        "print(\"--- Training Time: %s seconds ---\" % (time.time() - start_time))"
      ],
      "metadata": {
        "colab": {
          "base_uri": "https://localhost:8080/"
        },
        "id": "rE3heM165PQc",
        "outputId": "2d60fe53-feba-4f5e-956e-539bee747a81"
      },
      "execution_count": null,
      "outputs": [
        {
          "output_type": "stream",
          "name": "stdout",
          "text": [
            "Accuracy:  91.23408423114594\n",
            "Loss: 0.1719324026451139\n",
            "--- Training Time: 89.13736462593079 seconds ---\n"
          ]
        }
      ]
    },
    {
      "cell_type": "markdown",
      "source": [
        "####5 Hidden Node"
      ],
      "metadata": {
        "id": "XDfeUBjuMBS1"
      }
    },
    {
      "cell_type": "code",
      "source": [
        "start_time = time.time()\n",
        "inputs = X.shape[1]\n",
        "hidden_layers = 5\n",
        "outputs = 7\n",
        "network = initNetwork(inputs, hidden_layers, outputs)\n",
        "training = np.column_stack((x_train, y_train)).tolist()\n",
        "testing = x_test\n",
        "learning_rate = 0.001\n",
        "epochs = 100\n",
        "n_outputs = 7\n",
        "activation = 'ReLu'\n",
        "minLoss_r_h5, pred = trainNetwork(network, training, testing, learning_rate, epochs, n_outputs, activation)\n",
        "accuracy_r_h5 = accuracy_score(y_test, pred)*100\n",
        "print(\"Accuracy: \", accuracy_r_h5)\n",
        "print(\"Loss:\", minLoss_r_h5)\n",
        "print(\"--- Training Time: %s seconds ---\" % (time.time() - start_time))"
      ],
      "metadata": {
        "colab": {
          "base_uri": "https://localhost:8080/"
        },
        "id": "oTtDRsPKMA6X",
        "outputId": "b02439eb-2077-45c6-f461-d1d574d1a0bc"
      },
      "execution_count": null,
      "outputs": [
        {
          "output_type": "stream",
          "name": "stdout",
          "text": [
            "Accuracy:  91.42997061704212\n",
            "Loss: 0.16185577831426473\n",
            "--- Training Time: 100.97505974769592 seconds ---\n"
          ]
        }
      ]
    },
    {
      "cell_type": "markdown",
      "source": [
        "####Plot"
      ],
      "metadata": {
        "id": "cd6zjwgluTh_"
      }
    },
    {
      "cell_type": "code",
      "source": [
        "Dict = {}\n",
        "Dict['Hidden Layer 1'] = accuracy_r_h1\n",
        "Dict['Hidden Layer 2'] = accuracy_r_h2\n",
        "Dict['Hidden Layer 3'] = accuracy_r_h3\n",
        "Dict['Hidden Layer 4'] = accuracy_r_h4\n",
        "Dict['Hidden Layer 5'] = accuracy_r_h5\n",
        "myList = Dict.items()\n",
        "myList = sorted(myList) \n",
        "x, y = zip(*myList) \n",
        "\n",
        "plt.plot(x, y)\n",
        "plt.title(\"Graph\")\n",
        "plt.xlabel(\"Hidden Layers\")\n",
        "plt.ylabel(\"Accuracy\")\n",
        "plt.show()"
      ],
      "metadata": {
        "colab": {
          "base_uri": "https://localhost:8080/",
          "height": 295
        },
        "id": "jOW1mWUk50-s",
        "outputId": "4de69b50-8e58-444f-a917-d79b71bb9f7b"
      },
      "execution_count": null,
      "outputs": [
        {
          "output_type": "display_data",
          "data": {
            "text/plain": [
              "<Figure size 432x288 with 1 Axes>"
            ],
            "image/png": "[encoded data removed]"
          },
          "metadata": {
            "needs_background": "light"
          }
        }
      ]
    },
    {
      "cell_type": "markdown",
      "source": [
        "##**f.** Add a provision to save and load weights in the MLP."
      ],
      "metadata": {
        "id": "JEiuehh7_DbK"
      }
    },
    {
      "cell_type": "code",
      "source": [
        "def addedSaveAndLoadWeightsTrainNetwork(network, neuron, training, testing, learning_rate, epochs, n_outputs, activation):\n",
        "    loadWeights = []\n",
        "    loss = []\n",
        "    for epoch in range(epochs):\n",
        "        error = 0\n",
        "        for row in training:\n",
        "            outputs = forwardPropagate(network, row, activation)\n",
        "            for j in range(len(outputs)):\n",
        "                if(outputs[j]==max(outputs)):\n",
        "                    outputs[j] = 1\n",
        "                else:\n",
        "                    outputs[j] = 0\n",
        "            expected = [0 for i in range(n_outputs)]\n",
        "            expected[int(row[-1])-1] = 1\n",
        "            error += sum([(expected[k]-outputs[k])**2 for k in range(0, len(expected))])\n",
        "            backwardPropagateTheError(network, expected, activation)\n",
        "            updateweights(network, row, learning_rate)\n",
        "        loadWeights.append(neuron['wts'])\n",
        "        loss.append(error)\n",
        "    pred = []\n",
        "    for row in testing:\n",
        "        outputs = forwardPropagate(network, row, activation)\n",
        "        pred.append(outputs.index(max(outputs))+1)\n",
        "    return loadWeights[loss.index(min(loss))], min(loss)/len(training), pred"
      ],
      "metadata": {
        "id": "GXWHoih1_Ozv"
      },
      "execution_count": 143,
      "outputs": []
    }
  ]
}